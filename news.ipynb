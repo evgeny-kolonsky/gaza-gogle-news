{
  "nbformat": 4,
  "nbformat_minor": 0,
  "metadata": {
    "colab": {
      "provenance": [],
      "authorship_tag": "ABX9TyNgbpSvyKA05Vhm6EUK2Cc+",
      "include_colab_link": true
    },
    "kernelspec": {
      "name": "python3",
      "display_name": "Python 3"
    },
    "language_info": {
      "name": "python"
    }
  },
  "cells": [
    {
      "cell_type": "markdown",
      "metadata": {
        "id": "view-in-github",
        "colab_type": "text"
      },
      "source": [
        "<a href=\"https://colab.research.google.com/github/evgeny-kolonsky/gaza-news/blob/main/news.ipynb\" target=\"_parent\"><img src=\"https://colab.research.google.com/assets/colab-badge.svg\" alt=\"Open In Colab\"/></a>"
      ]
    },
    {
      "cell_type": "markdown",
      "source": [
        "# News crawler\n",
        "\n"
      ],
      "metadata": {
        "id": "so4wLTSWPVkK"
      }
    },
    {
      "cell_type": "code",
      "source": [
        "#!pip install newspaper3k\n",
        "!pip install gnews"
      ],
      "metadata": {
        "colab": {
          "base_uri": "https://localhost:8080/"
        },
        "id": "i0gjXDzTl0Vo",
        "outputId": "2ac4fa93-855f-4fe0-fbeb-d036c7618f82"
      },
      "execution_count": 1,
      "outputs": [
        {
          "output_type": "stream",
          "name": "stdout",
          "text": [
            "Collecting newspaper3k\n",
            "  Downloading newspaper3k-0.2.8-py3-none-any.whl (211 kB)\n",
            "\u001b[2K     \u001b[90m━━━━━━━━━━━━━━━━━━━━━━━━━━━━━━━━━━━━━━━━\u001b[0m \u001b[32m211.1/211.1 kB\u001b[0m \u001b[31m3.5 MB/s\u001b[0m eta \u001b[36m0:00:00\u001b[0m\n",
            "\u001b[?25hRequirement already satisfied: beautifulsoup4>=4.4.1 in /usr/local/lib/python3.10/dist-packages (from newspaper3k) (4.12.3)\n",
            "Requirement already satisfied: Pillow>=3.3.0 in /usr/local/lib/python3.10/dist-packages (from newspaper3k) (9.4.0)\n",
            "Requirement already satisfied: PyYAML>=3.11 in /usr/local/lib/python3.10/dist-packages (from newspaper3k) (6.0.1)\n",
            "Collecting cssselect>=0.9.2 (from newspaper3k)\n",
            "  Downloading cssselect-1.2.0-py2.py3-none-any.whl (18 kB)\n",
            "Requirement already satisfied: lxml>=3.6.0 in /usr/local/lib/python3.10/dist-packages (from newspaper3k) (4.9.4)\n",
            "Requirement already satisfied: nltk>=3.2.1 in /usr/local/lib/python3.10/dist-packages (from newspaper3k) (3.8.1)\n",
            "Requirement already satisfied: requests>=2.10.0 in /usr/local/lib/python3.10/dist-packages (from newspaper3k) (2.31.0)\n",
            "Collecting feedparser>=5.2.1 (from newspaper3k)\n",
            "  Downloading feedparser-6.0.11-py3-none-any.whl (81 kB)\n",
            "\u001b[2K     \u001b[90m━━━━━━━━━━━━━━━━━━━━━━━━━━━━━━━━━━━━━━━━\u001b[0m \u001b[32m81.3/81.3 kB\u001b[0m \u001b[31m4.5 MB/s\u001b[0m eta \u001b[36m0:00:00\u001b[0m\n",
            "\u001b[?25hCollecting tldextract>=2.0.1 (from newspaper3k)\n",
            "  Downloading tldextract-5.1.2-py3-none-any.whl (97 kB)\n",
            "\u001b[2K     \u001b[90m━━━━━━━━━━━━━━━━━━━━━━━━━━━━━━━━━━━━━━━━\u001b[0m \u001b[32m97.6/97.6 kB\u001b[0m \u001b[31m3.7 MB/s\u001b[0m eta \u001b[36m0:00:00\u001b[0m\n",
            "\u001b[?25hCollecting feedfinder2>=0.0.4 (from newspaper3k)\n",
            "  Downloading feedfinder2-0.0.4.tar.gz (3.3 kB)\n",
            "  Preparing metadata (setup.py) ... \u001b[?25l\u001b[?25hdone\n",
            "Collecting jieba3k>=0.35.1 (from newspaper3k)\n",
            "  Downloading jieba3k-0.35.1.zip (7.4 MB)\n",
            "\u001b[2K     \u001b[90m━━━━━━━━━━━━━━━━━━━━━━━━━━━━━━━━━━━━━━━━\u001b[0m \u001b[32m7.4/7.4 MB\u001b[0m \u001b[31m15.7 MB/s\u001b[0m eta \u001b[36m0:00:00\u001b[0m\n",
            "\u001b[?25h  Preparing metadata (setup.py) ... \u001b[?25l\u001b[?25hdone\n",
            "Requirement already satisfied: python-dateutil>=2.5.3 in /usr/local/lib/python3.10/dist-packages (from newspaper3k) (2.8.2)\n",
            "Collecting tinysegmenter==0.3 (from newspaper3k)\n",
            "  Downloading tinysegmenter-0.3.tar.gz (16 kB)\n",
            "  Preparing metadata (setup.py) ... \u001b[?25l\u001b[?25hdone\n",
            "Requirement already satisfied: soupsieve>1.2 in /usr/local/lib/python3.10/dist-packages (from beautifulsoup4>=4.4.1->newspaper3k) (2.5)\n",
            "Requirement already satisfied: six in /usr/local/lib/python3.10/dist-packages (from feedfinder2>=0.0.4->newspaper3k) (1.16.0)\n",
            "Collecting sgmllib3k (from feedparser>=5.2.1->newspaper3k)\n",
            "  Downloading sgmllib3k-1.0.0.tar.gz (5.8 kB)\n",
            "  Preparing metadata (setup.py) ... \u001b[?25l\u001b[?25hdone\n",
            "Requirement already satisfied: click in /usr/local/lib/python3.10/dist-packages (from nltk>=3.2.1->newspaper3k) (8.1.7)\n",
            "Requirement already satisfied: joblib in /usr/local/lib/python3.10/dist-packages (from nltk>=3.2.1->newspaper3k) (1.4.2)\n",
            "Requirement already satisfied: regex>=2021.8.3 in /usr/local/lib/python3.10/dist-packages (from nltk>=3.2.1->newspaper3k) (2024.5.15)\n",
            "Requirement already satisfied: tqdm in /usr/local/lib/python3.10/dist-packages (from nltk>=3.2.1->newspaper3k) (4.66.4)\n",
            "Requirement already satisfied: charset-normalizer<4,>=2 in /usr/local/lib/python3.10/dist-packages (from requests>=2.10.0->newspaper3k) (3.3.2)\n",
            "Requirement already satisfied: idna<4,>=2.5 in /usr/local/lib/python3.10/dist-packages (from requests>=2.10.0->newspaper3k) (3.7)\n",
            "Requirement already satisfied: urllib3<3,>=1.21.1 in /usr/local/lib/python3.10/dist-packages (from requests>=2.10.0->newspaper3k) (2.0.7)\n",
            "Requirement already satisfied: certifi>=2017.4.17 in /usr/local/lib/python3.10/dist-packages (from requests>=2.10.0->newspaper3k) (2024.6.2)\n",
            "Collecting requests-file>=1.4 (from tldextract>=2.0.1->newspaper3k)\n",
            "  Downloading requests_file-2.1.0-py2.py3-none-any.whl (4.2 kB)\n",
            "Requirement already satisfied: filelock>=3.0.8 in /usr/local/lib/python3.10/dist-packages (from tldextract>=2.0.1->newspaper3k) (3.14.0)\n",
            "Building wheels for collected packages: tinysegmenter, feedfinder2, jieba3k, sgmllib3k\n",
            "  Building wheel for tinysegmenter (setup.py) ... \u001b[?25l\u001b[?25hdone\n",
            "  Created wheel for tinysegmenter: filename=tinysegmenter-0.3-py3-none-any.whl size=13538 sha256=21bc25e0439bb696e22ed01f3440d1365780b92afc40c8060348bfe275f026a7\n",
            "  Stored in directory: /root/.cache/pip/wheels/c8/d6/6c/384f58df48c00b9a31d638005143b5b3ac62c3d25fb1447f23\n",
            "  Building wheel for feedfinder2 (setup.py) ... \u001b[?25l\u001b[?25hdone\n",
            "  Created wheel for feedfinder2: filename=feedfinder2-0.0.4-py3-none-any.whl size=3340 sha256=d589164341011b2ed7b3c7169e1b5beb10297cfbb646399483558317f728f4aa\n",
            "  Stored in directory: /root/.cache/pip/wheels/97/02/e7/a1ff1760e12bdbaab0ac824fae5c1bc933e41c4ccd6a8f8edb\n",
            "  Building wheel for jieba3k (setup.py) ... \u001b[?25l\u001b[?25hdone\n",
            "  Created wheel for jieba3k: filename=jieba3k-0.35.1-py3-none-any.whl size=7398382 sha256=7b42e637c9ea608147302aeea70709e72334b342dc229b18b81069e71532f87f\n",
            "  Stored in directory: /root/.cache/pip/wheels/7a/c4/0c/12a9a314ecac499456c4c3b2fcc2f635a3b45a39dfbd240299\n",
            "  Building wheel for sgmllib3k (setup.py) ... \u001b[?25l\u001b[?25hdone\n",
            "  Created wheel for sgmllib3k: filename=sgmllib3k-1.0.0-py3-none-any.whl size=6049 sha256=dccc74f52657911991408617d47466576134b6e09530f3e213d44c7122e56226\n",
            "  Stored in directory: /root/.cache/pip/wheels/f0/69/93/a47e9d621be168e9e33c7ce60524393c0b92ae83cf6c6e89c5\n",
            "Successfully built tinysegmenter feedfinder2 jieba3k sgmllib3k\n",
            "Installing collected packages: tinysegmenter, sgmllib3k, jieba3k, feedparser, cssselect, requests-file, feedfinder2, tldextract, newspaper3k\n",
            "Successfully installed cssselect-1.2.0 feedfinder2-0.0.4 feedparser-6.0.11 jieba3k-0.35.1 newspaper3k-0.2.8 requests-file-2.1.0 sgmllib3k-1.0.0 tinysegmenter-0.3 tldextract-5.1.2\n",
            "Collecting gnews\n",
            "  Downloading gnews-0.3.7-py3-none-any.whl (15 kB)\n",
            "Requirement already satisfied: feedparser~=6.0.2 in /usr/local/lib/python3.10/dist-packages (from gnews) (6.0.11)\n",
            "Requirement already satisfied: beautifulsoup4<5,>=4.9.3 in /usr/local/lib/python3.10/dist-packages (from gnews) (4.12.3)\n",
            "Collecting dnspython~=1.16.0 (from gnews)\n",
            "  Downloading dnspython-1.16.0-py2.py3-none-any.whl (188 kB)\n",
            "\u001b[2K     \u001b[90m━━━━━━━━━━━━━━━━━━━━━━━━━━━━━━━━━━━━━━━━\u001b[0m \u001b[32m188.4/188.4 kB\u001b[0m \u001b[31m3.7 MB/s\u001b[0m eta \u001b[36m0:00:00\u001b[0m\n",
            "\u001b[?25hRequirement already satisfied: requests in /usr/local/lib/python3.10/dist-packages (from gnews) (2.31.0)\n",
            "Requirement already satisfied: soupsieve>1.2 in /usr/local/lib/python3.10/dist-packages (from beautifulsoup4<5,>=4.9.3->gnews) (2.5)\n",
            "Requirement already satisfied: sgmllib3k in /usr/local/lib/python3.10/dist-packages (from feedparser~=6.0.2->gnews) (1.0.0)\n",
            "Requirement already satisfied: charset-normalizer<4,>=2 in /usr/local/lib/python3.10/dist-packages (from requests->gnews) (3.3.2)\n",
            "Requirement already satisfied: idna<4,>=2.5 in /usr/local/lib/python3.10/dist-packages (from requests->gnews) (3.7)\n",
            "Requirement already satisfied: urllib3<3,>=1.21.1 in /usr/local/lib/python3.10/dist-packages (from requests->gnews) (2.0.7)\n",
            "Requirement already satisfied: certifi>=2017.4.17 in /usr/local/lib/python3.10/dist-packages (from requests->gnews) (2024.6.2)\n",
            "Installing collected packages: dnspython, gnews\n",
            "Successfully installed dnspython-1.16.0 gnews-0.3.7\n"
          ]
        }
      ]
    },
    {
      "cell_type": "code",
      "source": [
        "import urllib, urllib.request, time, datetime\n",
        "import requests\n",
        "from bs4 import BeautifulSoup\n",
        "from datetime import date, timedelta\n",
        "#import newspaper\n",
        "import json\n",
        "#from newspaper import Article\n",
        "from gnews import GNews"
      ],
      "metadata": {
        "id": "Lil2vpmyq96M"
      },
      "execution_count": 1,
      "outputs": []
    },
    {
      "cell_type": "code",
      "source": [
        "# get URL after redirect\n",
        "def get_redirected(url):\n",
        "  try:\n",
        "    redirected = requests.get(url, allow_redirects=True, timeout=1).url\n",
        "  except:\n",
        "    redirected = url\n",
        "  return redirected"
      ],
      "metadata": {
        "id": "7CWDT-_1_Lhk"
      },
      "execution_count": 2,
      "outputs": []
    },
    {
      "cell_type": "code",
      "source": [
        "# set here start date, final date and filename for data saving\n",
        "\n",
        "KEYWORD = 'apnews+gaza'\n",
        "#KEYWORD = 'gaza\n",
        "FORMAT = '%Y/%m/%d'\n",
        "start_day = datetime.datetime.strptime('2024/04/01', FORMAT)\n",
        "fin_day   = datetime.datetime.strptime('2024/06/13', FORMAT)\n",
        "\n",
        "\n",
        "google_news = GNews()\n",
        "\n",
        "filename = 'ap-news.txt'\n",
        "\n",
        "# clear file\n",
        "file = open(filename, 'w')\n",
        "file.close()\n",
        "\n",
        "urls = {} # urls collection to check for duplicates\n",
        "\n",
        "day = start_day\n",
        "while day < fin_day:\n",
        "  print(day, end='')\n",
        "  google_news.start_date = day\n",
        "  nextday = day + timedelta(days=1)\n",
        "  google_news.end_date =  nextday\n",
        "  news = google_news.get_news(KEYWORD)\n",
        "  lines = ''\n",
        "  for headline in news:\n",
        "    google_url = headline['url']\n",
        "    original_url = get_redirected(google_url)\n",
        "\n",
        "    if original_url in urls:\n",
        "      continue\n",
        "    else:\n",
        "      urls[original_url] = True\n",
        "\n",
        "    title = headline['title']\n",
        "    #article = Article(original_url)\n",
        "    #article.download()\n",
        "    #article.parse()\n",
        "    #top_image = article.top_image\n",
        "    publisher = headline['publisher']['title']\n",
        "    line = f'{day:%Y-%m-%d}\\t{publisher}\\t{title}\\t{original_url}\\n'\n",
        "    lines += line\n",
        "  print(' ', len(news))\n",
        "  with open(filename, 'a') as f:\n",
        "    f.write(lines)\n",
        "  day = nextday\n",
        "\n",
        "\n"
      ],
      "metadata": {
        "id": "OTtyC2HHPblx",
        "colab": {
          "base_uri": "https://localhost:8080/"
        },
        "outputId": "c209f964-fa76-4e87-865f-1675c5a875b6"
      },
      "execution_count": 3,
      "outputs": [
        {
          "output_type": "stream",
          "name": "stdout",
          "text": [
            "2024-04-01 00:00:00  18\n",
            "2024-04-02 00:00:00"
          ]
        },
        {
          "output_type": "stream",
          "name": "stderr",
          "text": [
            "/usr/local/lib/python3.10/dist-packages/gnews/gnews.py:130: UserWarning: The start and end dates should be at least 1 day apart, or GNews will return no results\n",
            "  warnings.warn(\"The start and end dates should be at least 1 day apart, or GNews will return no results\")\n"
          ]
        },
        {
          "output_type": "stream",
          "name": "stdout",
          "text": [
            "  19\n",
            "2024-04-03 00:00:00  19\n",
            "2024-04-04 00:00:00  22\n",
            "2024-04-05 00:00:00  19\n",
            "2024-04-06 00:00:00  11\n",
            "2024-04-07 00:00:00  11\n",
            "2024-04-08 00:00:00  11\n",
            "2024-04-09 00:00:00  10\n",
            "2024-04-10 00:00:00  10\n",
            "2024-04-11 00:00:00  12\n",
            "2024-04-12 00:00:00  11\n",
            "2024-04-13 00:00:00  8\n",
            "2024-04-14 00:00:00  10\n",
            "2024-04-15 00:00:00  12\n",
            "2024-04-16 00:00:00  12\n",
            "2024-04-17 00:00:00  34\n",
            "2024-04-18 00:00:00  33\n",
            "2024-04-19 00:00:00  12\n",
            "2024-04-20 00:00:00  10\n",
            "2024-04-21 00:00:00  13\n",
            "2024-04-22 00:00:00  38\n",
            "2024-04-23 00:00:00  32\n",
            "2024-04-24 00:00:00  28\n",
            "2024-04-25 00:00:00  27\n",
            "2024-04-26 00:00:00  18\n",
            "2024-04-27 00:00:00  13\n",
            "2024-04-28 00:00:00  15\n",
            "2024-04-29 00:00:00  19\n",
            "2024-04-30 00:00:00  26\n",
            "2024-05-01 00:00:00  30\n",
            "2024-05-02 00:00:00  25\n",
            "2024-05-03 00:00:00  18\n",
            "2024-05-04 00:00:00  13\n",
            "2024-05-05 00:00:00  15\n",
            "2024-05-06 00:00:00  22\n",
            "2024-05-07 00:00:00  28\n",
            "2024-05-08 00:00:00  22\n",
            "2024-05-09 00:00:00  18\n",
            "2024-05-10 00:00:00  14\n",
            "2024-05-11 00:00:00  11\n",
            "2024-05-12 00:00:00  14\n",
            "2024-05-13 00:00:00  20\n",
            "2024-05-14 00:00:00  20\n",
            "2024-05-15 00:00:00  19\n",
            "2024-05-16 00:00:00  27\n",
            "2024-05-17 00:00:00  21\n",
            "2024-05-18 00:00:00  13\n",
            "2024-05-19 00:00:00  17\n",
            "2024-05-20 00:00:00  50\n",
            "2024-05-21 00:00:00  52\n",
            "2024-05-22 00:00:00  28\n",
            "2024-05-23 00:00:00  16\n",
            "2024-05-24 00:00:00  13\n",
            "2024-05-25 00:00:00  6\n",
            "2024-05-26 00:00:00  4\n",
            "2024-05-27 00:00:00  14\n",
            "2024-05-28 00:00:00  19\n",
            "2024-05-29 00:00:00  18\n",
            "2024-05-30 00:00:00  20\n",
            "2024-05-31 00:00:00  19\n",
            "2024-06-01 00:00:00  16\n",
            "2024-06-02 00:00:00  21\n",
            "2024-06-03 00:00:00  27\n",
            "2024-06-04 00:00:00  19\n",
            "2024-06-05 00:00:00  20\n",
            "2024-06-06 00:00:00  24\n",
            "2024-06-07 00:00:00  18\n",
            "2024-06-08 00:00:00  10\n",
            "2024-06-09 00:00:00  7\n",
            "2024-06-10 00:00:00  12\n",
            "2024-06-11 00:00:00  14\n",
            "2024-06-12 00:00:00  8\n"
          ]
        }
      ]
    },
    {
      "cell_type": "code",
      "source": [],
      "metadata": {
        "id": "2bZ7eaEuD2Wg"
      },
      "execution_count": null,
      "outputs": []
    }
  ]
}