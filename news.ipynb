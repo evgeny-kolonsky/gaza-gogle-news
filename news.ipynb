{
  "nbformat": 4,
  "nbformat_minor": 0,
  "metadata": {
    "colab": {
      "provenance": [],
      "authorship_tag": "ABX9TyNTRQLV2guHT76aKQgqE5AG",
      "include_colab_link": true
    },
    "kernelspec": {
      "name": "python3",
      "display_name": "Python 3"
    },
    "language_info": {
      "name": "python"
    }
  },
  "cells": [
    {
      "cell_type": "markdown",
      "metadata": {
        "id": "view-in-github",
        "colab_type": "text"
      },
      "source": [
        "<a href=\"https://colab.research.google.com/github/evgeny-kolonsky/gaza-gogle-news/blob/main/news.ipynb\" target=\"_parent\"><img src=\"https://colab.research.google.com/assets/colab-badge.svg\" alt=\"Open In Colab\"/></a>"
      ]
    },
    {
      "cell_type": "markdown",
      "source": [
        "# News crawler\n",
        "\n"
      ],
      "metadata": {
        "id": "so4wLTSWPVkK"
      }
    },
    {
      "cell_type": "code",
      "source": [
        "!pip install newspaper3k\n",
        "!pip install gnews"
      ],
      "metadata": {
        "colab": {
          "base_uri": "https://localhost:8080/"
        },
        "id": "i0gjXDzTl0Vo",
        "outputId": "bb3e6349-d4b9-449f-8a9d-36dc9a418fc1"
      },
      "execution_count": 1,
      "outputs": [
        {
          "output_type": "stream",
          "name": "stdout",
          "text": [
            "Requirement already satisfied: newspaper3k in /usr/local/lib/python3.10/dist-packages (0.2.8)\n",
            "Requirement already satisfied: beautifulsoup4>=4.4.1 in /usr/local/lib/python3.10/dist-packages (from newspaper3k) (4.12.3)\n",
            "Requirement already satisfied: Pillow>=3.3.0 in /usr/local/lib/python3.10/dist-packages (from newspaper3k) (9.4.0)\n",
            "Requirement already satisfied: PyYAML>=3.11 in /usr/local/lib/python3.10/dist-packages (from newspaper3k) (6.0.1)\n",
            "Requirement already satisfied: cssselect>=0.9.2 in /usr/local/lib/python3.10/dist-packages (from newspaper3k) (1.2.0)\n",
            "Requirement already satisfied: lxml>=3.6.0 in /usr/local/lib/python3.10/dist-packages (from newspaper3k) (4.9.4)\n",
            "Requirement already satisfied: nltk>=3.2.1 in /usr/local/lib/python3.10/dist-packages (from newspaper3k) (3.8.1)\n",
            "Requirement already satisfied: requests>=2.10.0 in /usr/local/lib/python3.10/dist-packages (from newspaper3k) (2.31.0)\n",
            "Requirement already satisfied: feedparser>=5.2.1 in /usr/local/lib/python3.10/dist-packages (from newspaper3k) (6.0.11)\n",
            "Requirement already satisfied: tldextract>=2.0.1 in /usr/local/lib/python3.10/dist-packages (from newspaper3k) (5.1.2)\n",
            "Requirement already satisfied: feedfinder2>=0.0.4 in /usr/local/lib/python3.10/dist-packages (from newspaper3k) (0.0.4)\n",
            "Requirement already satisfied: jieba3k>=0.35.1 in /usr/local/lib/python3.10/dist-packages (from newspaper3k) (0.35.1)\n",
            "Requirement already satisfied: python-dateutil>=2.5.3 in /usr/local/lib/python3.10/dist-packages (from newspaper3k) (2.8.2)\n",
            "Requirement already satisfied: tinysegmenter==0.3 in /usr/local/lib/python3.10/dist-packages (from newspaper3k) (0.3)\n",
            "Requirement already satisfied: soupsieve>1.2 in /usr/local/lib/python3.10/dist-packages (from beautifulsoup4>=4.4.1->newspaper3k) (2.5)\n",
            "Requirement already satisfied: six in /usr/local/lib/python3.10/dist-packages (from feedfinder2>=0.0.4->newspaper3k) (1.16.0)\n",
            "Requirement already satisfied: sgmllib3k in /usr/local/lib/python3.10/dist-packages (from feedparser>=5.2.1->newspaper3k) (1.0.0)\n",
            "Requirement already satisfied: click in /usr/local/lib/python3.10/dist-packages (from nltk>=3.2.1->newspaper3k) (8.1.7)\n",
            "Requirement already satisfied: joblib in /usr/local/lib/python3.10/dist-packages (from nltk>=3.2.1->newspaper3k) (1.4.2)\n",
            "Requirement already satisfied: regex>=2021.8.3 in /usr/local/lib/python3.10/dist-packages (from nltk>=3.2.1->newspaper3k) (2024.5.15)\n",
            "Requirement already satisfied: tqdm in /usr/local/lib/python3.10/dist-packages (from nltk>=3.2.1->newspaper3k) (4.66.4)\n",
            "Requirement already satisfied: charset-normalizer<4,>=2 in /usr/local/lib/python3.10/dist-packages (from requests>=2.10.0->newspaper3k) (3.3.2)\n",
            "Requirement already satisfied: idna<4,>=2.5 in /usr/local/lib/python3.10/dist-packages (from requests>=2.10.0->newspaper3k) (3.7)\n",
            "Requirement already satisfied: urllib3<3,>=1.21.1 in /usr/local/lib/python3.10/dist-packages (from requests>=2.10.0->newspaper3k) (2.0.7)\n",
            "Requirement already satisfied: certifi>=2017.4.17 in /usr/local/lib/python3.10/dist-packages (from requests>=2.10.0->newspaper3k) (2024.6.2)\n",
            "Requirement already satisfied: requests-file>=1.4 in /usr/local/lib/python3.10/dist-packages (from tldextract>=2.0.1->newspaper3k) (2.1.0)\n",
            "Requirement already satisfied: filelock>=3.0.8 in /usr/local/lib/python3.10/dist-packages (from tldextract>=2.0.1->newspaper3k) (3.14.0)\n",
            "Requirement already satisfied: gnews in /usr/local/lib/python3.10/dist-packages (0.3.7)\n",
            "Requirement already satisfied: feedparser~=6.0.2 in /usr/local/lib/python3.10/dist-packages (from gnews) (6.0.11)\n",
            "Requirement already satisfied: beautifulsoup4<5,>=4.9.3 in /usr/local/lib/python3.10/dist-packages (from gnews) (4.12.3)\n",
            "Requirement already satisfied: dnspython~=1.16.0 in /usr/local/lib/python3.10/dist-packages (from gnews) (1.16.0)\n",
            "Requirement already satisfied: requests in /usr/local/lib/python3.10/dist-packages (from gnews) (2.31.0)\n",
            "Requirement already satisfied: soupsieve>1.2 in /usr/local/lib/python3.10/dist-packages (from beautifulsoup4<5,>=4.9.3->gnews) (2.5)\n",
            "Requirement already satisfied: sgmllib3k in /usr/local/lib/python3.10/dist-packages (from feedparser~=6.0.2->gnews) (1.0.0)\n",
            "Requirement already satisfied: charset-normalizer<4,>=2 in /usr/local/lib/python3.10/dist-packages (from requests->gnews) (3.3.2)\n",
            "Requirement already satisfied: idna<4,>=2.5 in /usr/local/lib/python3.10/dist-packages (from requests->gnews) (3.7)\n",
            "Requirement already satisfied: urllib3<3,>=1.21.1 in /usr/local/lib/python3.10/dist-packages (from requests->gnews) (2.0.7)\n",
            "Requirement already satisfied: certifi>=2017.4.17 in /usr/local/lib/python3.10/dist-packages (from requests->gnews) (2024.6.2)\n"
          ]
        }
      ]
    },
    {
      "cell_type": "code",
      "source": [
        "import urllib, urllib.request, time, datetime\n",
        "import requests\n",
        "from bs4 import BeautifulSoup\n",
        "from datetime import date, timedelta\n",
        "import newspaper\n",
        "import json\n",
        "from newspaper import Article\n",
        "from gnews import GNews"
      ],
      "metadata": {
        "id": "Lil2vpmyq96M"
      },
      "execution_count": 2,
      "outputs": []
    },
    {
      "cell_type": "code",
      "source": [
        "# get URL after redirect\n",
        "def get_redirected(url):\n",
        "  try:\n",
        "    redirected = requests.get(url, allow_redirects=True, timeout=1).url\n",
        "  except:\n",
        "    redirected = url\n",
        "  return redirected"
      ],
      "metadata": {
        "id": "7CWDT-_1_Lhk"
      },
      "execution_count": 3,
      "outputs": []
    },
    {
      "cell_type": "code",
      "source": [
        "# set here start date, final date and filename for data saving\n",
        "\n",
        "KEYWORD = 'Gaza'\n",
        "FORMAT = '%Y/%m/%d'\n",
        "start_day = datetime.datetime.strptime('2023/10/01', FORMAT)\n",
        "fin_day   = datetime.datetime.strptime('2024/06/13', FORMAT)\n",
        "\n",
        "\n",
        "google_news = GNews()\n",
        "\n",
        "filename = 'gaza-news.txt'\n",
        "\n",
        "# clear file\n",
        "file = open(filename, 'w')\n",
        "file.close()\n",
        "\n",
        "urls = {} # urls collection to check for duplicates\n",
        "\n",
        "day = start_day\n",
        "while day < fin_day:\n",
        "  print(day, end='')\n",
        "  google_news.start_date = day\n",
        "  nextday = day + timedelta(days=1)\n",
        "  google_news.end_date =  nextday\n",
        "  news = google_news.get_news(KEYWORD)\n",
        "  lines = ''\n",
        "  for headline in news:\n",
        "    google_url = headline['url']\n",
        "    original_url = get_redirected(google_url)\n",
        "\n",
        "    if original_url in urls:\n",
        "      continue\n",
        "    else:\n",
        "      urls[original_url] = True\n",
        "\n",
        "    title = headline['title']\n",
        "    #article = Article(original_url)\n",
        "    #article.download()\n",
        "    #article.parse()\n",
        "    #top_image = article.top_image\n",
        "    publisher = headline['publisher']['title']\n",
        "    line = f'{day:%Y-%m-%d}\\t{publisher}\\t{title}\\t{original_url}\\n'\n",
        "    lines += line\n",
        "  print(' ', len(news))\n",
        "  with open(filename, 'a') as f:\n",
        "    f.write(lines)\n",
        "  day = nextday\n",
        "\n",
        "\n"
      ],
      "metadata": {
        "id": "OTtyC2HHPblx",
        "colab": {
          "base_uri": "https://localhost:8080/"
        },
        "outputId": "2c74f63a-4ebd-442e-8c55-8ad05a7512e4"
      },
      "execution_count": null,
      "outputs": [
        {
          "metadata": {
            "tags": null
          },
          "name": "stdout",
          "output_type": "stream",
          "text": [
            "2023-10-01 00:00:00  0\n",
            "2023-10-02 00:00:00"
          ]
        },
        {
          "metadata": {
            "tags": null
          },
          "name": "stderr",
          "output_type": "stream",
          "text": [
            "/usr/local/lib/python3.10/dist-packages/gnews/gnews.py:130: UserWarning: The start and end dates should be at least 1 day apart, or GNews will return no results\n",
            "  warnings.warn(\"The start and end dates should be at least 1 day apart, or GNews will return no results\")\n"
          ]
        },
        {
          "output_type": "stream",
          "name": "stdout",
          "text": [
            "  0\n",
            "2023-10-03 00:00:00  1\n",
            "2023-10-04 00:00:00  3\n",
            "2023-10-05 00:00:00  4\n",
            "2023-10-06 00:00:00  44\n",
            "2023-10-07 00:00:00  71\n",
            "2023-10-08 00:00:00  87\n",
            "2023-10-09 00:00:00  100\n",
            "2023-10-10 00:00:00  100\n",
            "2023-10-11 00:00:00  100\n",
            "2023-10-12 00:00:00  100\n",
            "2023-10-13 00:00:00  100\n",
            "2023-10-14 00:00:00  73\n",
            "2023-10-15 00:00:00  100\n",
            "2023-10-16 00:00:00  100\n",
            "2023-10-17 00:00:00  100\n",
            "2023-10-18 00:00:00  100\n",
            "2023-10-19 00:00:00  94\n",
            "2023-10-20 00:00:00  66\n",
            "2023-10-21 00:00:00  41\n",
            "2023-10-22 00:00:00  89\n",
            "2023-10-23 00:00:00  100\n",
            "2023-10-24 00:00:00  85\n",
            "2023-10-25 00:00:00  93\n",
            "2023-10-26 00:00:00  100\n",
            "2023-10-27 00:00:00  100\n",
            "2023-10-28 00:00:00  76\n",
            "2023-10-29 00:00:00  69\n",
            "2023-10-30 00:00:00  81\n",
            "2023-10-31 00:00:00  80\n",
            "2023-11-01 00:00:00  85\n",
            "2023-11-02 00:00:00  100\n",
            "2023-11-03 00:00:00  69\n",
            "2023-11-04 00:00:00  31\n",
            "2023-11-05 00:00:00  36\n",
            "2023-11-06 00:00:00  100\n",
            "2023-11-07 00:00:00  100\n",
            "2023-11-08 00:00:00  94\n",
            "2023-11-09 00:00:00  97\n",
            "2023-11-10 00:00:00  70\n",
            "2023-11-11 00:00:00  50\n",
            "2023-11-12 00:00:00  58\n",
            "2023-11-13 00:00:00  64\n",
            "2023-11-14 00:00:00  72\n",
            "2023-11-15 00:00:00  82\n",
            "2023-11-16 00:00:00  84\n",
            "2023-11-17 00:00:00  61\n",
            "2023-11-18 00:00:00  38\n",
            "2023-11-19 00:00:00  49\n",
            "2023-11-20 00:00:00  91\n",
            "2023-11-21 00:00:00  100\n",
            "2023-11-22 00:00:00  78\n",
            "2023-11-23 00:00:00  67\n",
            "2023-11-24 00:00:00  56\n",
            "2023-11-25 00:00:00  31\n",
            "2023-11-26 00:00:00  41\n",
            "2023-11-27 00:00:00  53\n",
            "2023-11-28 00:00:00  50\n",
            "2023-11-29 00:00:00  53\n",
            "2023-11-30 00:00:00  80\n",
            "2023-12-01 00:00:00  80\n",
            "2023-12-02 00:00:00  47\n",
            "2023-12-03 00:00:00  56\n",
            "2023-12-04 00:00:00  81\n",
            "2023-12-05 00:00:00  76\n",
            "2023-12-06 00:00:00  74\n",
            "2023-12-07 00:00:00  83\n",
            "2023-12-08 00:00:00  69\n",
            "2023-12-09 00:00:00  55\n",
            "2023-12-10 00:00:00  47\n",
            "2023-12-11 00:00:00  66\n",
            "2023-12-12 00:00:00  72\n",
            "2023-12-13 00:00:00  65\n",
            "2023-12-14 00:00:00  71\n",
            "2023-12-15 00:00:00  40\n",
            "2023-12-16 00:00:00  13\n",
            "2023-12-17 00:00:00  70\n",
            "2023-12-18 00:00:00  77\n",
            "2023-12-19 00:00:00  74\n",
            "2023-12-20 00:00:00  93\n",
            "2023-12-21 00:00:00  100\n",
            "2023-12-22 00:00:00  72\n",
            "2023-12-23 00:00:00  36\n",
            "2023-12-24 00:00:00  42\n",
            "2023-12-25 00:00:00  40\n",
            "2023-12-26 00:00:00  42\n",
            "2023-12-27 00:00:00  0\n",
            "2023-12-28 00:00:00  37\n",
            "2023-12-29 00:00:00  39\n",
            "2023-12-30 00:00:00  44\n",
            "2023-12-31 00:00:00  49\n",
            "2024-01-01 00:00:00  50\n",
            "2024-01-02 00:00:00  62\n",
            "2024-01-03 00:00:00  65\n",
            "2024-01-04 00:00:00  74\n",
            "2024-01-05 00:00:00  55\n",
            "2024-01-06 00:00:00  39\n",
            "2024-01-07 00:00:00  65\n",
            "2024-01-08 00:00:00  79\n",
            "2024-01-09 00:00:00  73\n",
            "2024-01-10 00:00:00  79\n",
            "2024-01-11 00:00:00  90\n",
            "2024-01-12 00:00:00  72\n",
            "2024-01-13 00:00:00  65\n",
            "2024-01-14 00:00:00  68\n",
            "2024-01-15 00:00:00  64\n",
            "2024-01-16 00:00:00  76\n",
            "2024-01-17 00:00:00  70\n",
            "2024-01-18 00:00:00  80\n",
            "2024-01-19 00:00:00  69\n",
            "2024-01-20 00:00:00  58\n",
            "2024-01-21 00:00:00  78\n",
            "2024-01-22 00:00:00  82\n",
            "2024-01-23 00:00:00  81\n",
            "2024-01-24 00:00:00  86\n",
            "2024-01-25 00:00:00  93\n",
            "2024-01-26 00:00:00  72\n",
            "2024-01-27 00:00:00  20\n",
            "2024-01-28 00:00:00  50\n",
            "2024-01-29 00:00:00"
          ]
        }
      ]
    },
    {
      "cell_type": "code",
      "source": [],
      "metadata": {
        "id": "2bZ7eaEuD2Wg"
      },
      "execution_count": null,
      "outputs": []
    }
  ]
}