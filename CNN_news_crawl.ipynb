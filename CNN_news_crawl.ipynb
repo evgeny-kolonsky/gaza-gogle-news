{
  "nbformat": 4,
  "nbformat_minor": 0,
  "metadata": {
    "colab": {
      "provenance": [],
      "include_colab_link": true
    },
    "kernelspec": {
      "name": "python3",
      "display_name": "Python 3"
    },
    "language_info": {
      "name": "python"
    }
  },
  "cells": [
    {
      "cell_type": "markdown",
      "metadata": {
        "id": "view-in-github",
        "colab_type": "text"
      },
      "source": [
        "<a href=\"https://colab.research.google.com/github/evgeny-kolonsky/gaza-news/blob/main/CNN_news_crawl.ipynb\" target=\"_parent\"><img src=\"https://colab.research.google.com/assets/colab-badge.svg\" alt=\"Open In Colab\"/></a>"
      ]
    },
    {
      "cell_type": "markdown",
      "source": [
        "# Wall Street Journal articles counter"
      ],
      "metadata": {
        "id": "7LONLes-HldL"
      }
    },
    {
      "cell_type": "code",
      "source": [
        "# Eugene Kolonsky 2022-24\n",
        "# script for news headlines data scrapping from CNN web site"
      ],
      "metadata": {
        "id": "jWQgO8NAHstF"
      },
      "execution_count": 1,
      "outputs": []
    },
    {
      "cell_type": "code",
      "source": [
        "import urllib, urllib.request, time, datetime\n",
        "from bs4 import BeautifulSoup\n",
        "from datetime import date, timedelta\n",
        "import json\n",
        "import requests"
      ],
      "metadata": {
        "id": "JoqIR0Id_KLN"
      },
      "execution_count": 2,
      "outputs": []
    },
    {
      "cell_type": "code",
      "execution_count": 3,
      "metadata": {
        "id": "CFrHsr89pQIw",
        "colab": {
          "base_uri": "https://localhost:8080/"
        },
        "outputId": "82c7a21b-c7bd-4138-b874-23318d4a022d"
      },
      "outputs": [
        {
          "output_type": "stream",
          "name": "stdout",
          "text": [
            "https://edition.cnn.com/middleeast/live-news/israel-hamas-war-gaza-news-03-01-24 articles count 29\n",
            "https://edition.cnn.com/middleeast/live-news/israel-hamas-war-gaza-news-03-02-24 articles count 30\n",
            "https://edition.cnn.com/middleeast/live-news/israel-hamas-war-gaza-news-03-03-24 articles count 23\n",
            "https://edition.cnn.com/middleeast/live-news/israel-hamas-war-gaza-news-03-04-24 articles count 32\n",
            "https://edition.cnn.com/middleeast/live-news/israel-hamas-war-gaza-news-03-05-24 articles count 34\n",
            "https://edition.cnn.com/middleeast/live-news/israel-hamas-war-gaza-news-03-06-24 articles count 35\n",
            "https://edition.cnn.com/middleeast/live-news/israel-hamas-war-gaza-news-03-07-24 articles count 40\n",
            "https://edition.cnn.com/middleeast/live-news/israel-hamas-war-gaza-news-03-08-24 articles count 1\n",
            "https://edition.cnn.com/middleeast/live-news/israel-hamas-war-gaza-news-03-09-24 articles count 38\n",
            "https://edition.cnn.com/middleeast/live-news/israel-hamas-war-gaza-news-03-10-24 articles count 27\n",
            "https://edition.cnn.com/middleeast/live-news/israel-hamas-war-gaza-news-03-11-24 articles count 35\n",
            "https://edition.cnn.com/middleeast/live-news/israel-hamas-war-gaza-news-03-12-24 articles count 38\n",
            "https://edition.cnn.com/middleeast/live-news/israel-hamas-war-gaza-news-03-13-24 articles count 32\n",
            "https://edition.cnn.com/middleeast/live-news/israel-hamas-war-gaza-news-03-14-24 articles count 43\n",
            "https://edition.cnn.com/middleeast/live-news/israel-hamas-war-gaza-news-03-15-24 articles count 50\n",
            "https://edition.cnn.com/middleeast/live-news/israel-hamas-war-gaza-news-03-16-24 articles count 24\n",
            "https://edition.cnn.com/middleeast/live-news/israel-hamas-war-gaza-news-03-17-24 articles count 0\n",
            "https://edition.cnn.com/middleeast/live-news/israel-hamas-war-gaza-news-03-18-24 articles count 34\n",
            "https://edition.cnn.com/middleeast/live-news/israel-hamas-war-gaza-news-03-19-24 articles count 34\n",
            "https://edition.cnn.com/middleeast/live-news/israel-hamas-war-gaza-news-03-20-24 articles count 38\n",
            "https://edition.cnn.com/middleeast/live-news/israel-hamas-war-gaza-news-03-21-24 articles count 39\n",
            "https://edition.cnn.com/middleeast/live-news/israel-hamas-war-gaza-news-03-22-24 articles count 36\n",
            "https://edition.cnn.com/middleeast/live-news/israel-hamas-war-gaza-news-03-23-24 articles count 0\n",
            "https://edition.cnn.com/middleeast/live-news/israel-hamas-war-gaza-news-03-24-24 articles count 0\n",
            "https://edition.cnn.com/middleeast/live-news/israel-hamas-war-gaza-news-03-25-24 articles count 0\n",
            "https://edition.cnn.com/middleeast/live-news/israel-hamas-war-gaza-news-03-26-24 articles count 34\n",
            "https://edition.cnn.com/middleeast/live-news/israel-hamas-war-gaza-news-03-27-24 articles count 0\n",
            "https://edition.cnn.com/middleeast/live-news/israel-hamas-war-gaza-news-03-28-24 articles count 0\n",
            "https://edition.cnn.com/middleeast/live-news/israel-hamas-war-gaza-news-03-29-24 articles count 1\n",
            "https://edition.cnn.com/middleeast/live-news/israel-hamas-war-gaza-news-03-30-24 articles count 21\n",
            "https://edition.cnn.com/middleeast/live-news/israel-hamas-war-gaza-news-03-31-24 articles count 23\n",
            "https://edition.cnn.com/middleeast/live-news/israel-hamas-war-gaza-news-04-01-24 articles count 48\n",
            "https://edition.cnn.com/middleeast/live-news/israel-hamas-war-gaza-news-04-02-24 articles count 72\n",
            "https://edition.cnn.com/middleeast/live-news/israel-hamas-war-gaza-news-04-03-24 articles count 49\n",
            "https://edition.cnn.com/middleeast/live-news/israel-hamas-war-gaza-news-04-04-24 articles count 1\n",
            "https://edition.cnn.com/middleeast/live-news/israel-hamas-war-gaza-news-04-05-24 articles count 54\n",
            "https://edition.cnn.com/middleeast/live-news/israel-hamas-war-gaza-news-04-06-24 articles count 1\n",
            "https://edition.cnn.com/middleeast/live-news/israel-hamas-war-gaza-news-04-07-24 articles count 33\n",
            "https://edition.cnn.com/middleeast/live-news/israel-hamas-war-gaza-news-04-08-24 articles count 39\n",
            "https://edition.cnn.com/middleeast/live-news/israel-hamas-war-gaza-news-04-09-24 articles count 46\n",
            "https://edition.cnn.com/middleeast/live-news/israel-hamas-war-gaza-news-04-10-24 articles count 35\n",
            "https://edition.cnn.com/middleeast/live-news/israel-hamas-war-gaza-news-04-11-24 articles count 36\n",
            "https://edition.cnn.com/middleeast/live-news/israel-hamas-war-gaza-news-04-12-24 articles count 36\n",
            "https://edition.cnn.com/middleeast/live-news/israel-hamas-war-gaza-news-04-13-24 articles count 106\n",
            "https://edition.cnn.com/middleeast/live-news/israel-hamas-war-gaza-news-04-14-24 articles count 89\n",
            "https://edition.cnn.com/middleeast/live-news/israel-hamas-war-gaza-news-04-15-24 articles count 57\n",
            "https://edition.cnn.com/middleeast/live-news/israel-hamas-war-gaza-news-04-16-24 articles count 43\n",
            "https://edition.cnn.com/middleeast/live-news/israel-hamas-war-gaza-news-04-17-24 articles count 38\n",
            "https://edition.cnn.com/middleeast/live-news/israel-hamas-war-gaza-news-04-18-24 articles count 59\n",
            "https://edition.cnn.com/middleeast/live-news/israel-hamas-war-gaza-news-04-19-24 articles count 0\n",
            "https://edition.cnn.com/middleeast/live-news/israel-hamas-war-gaza-news-04-20-24 articles count 25\n",
            "https://edition.cnn.com/middleeast/live-news/israel-hamas-war-gaza-news-04-21-24 articles count 18\n",
            "https://edition.cnn.com/middleeast/live-news/israel-hamas-war-gaza-news-04-22-24 articles count 27\n",
            "https://edition.cnn.com/middleeast/live-news/israel-hamas-war-gaza-news-04-23-24 articles count 32\n",
            "https://edition.cnn.com/middleeast/live-news/israel-hamas-war-gaza-news-04-24-24 articles count 30\n",
            "https://edition.cnn.com/middleeast/live-news/israel-hamas-war-gaza-news-04-25-24 articles count 0\n",
            "https://edition.cnn.com/middleeast/live-news/israel-hamas-war-gaza-news-04-26-24 articles count 0\n",
            "https://edition.cnn.com/middleeast/live-news/israel-hamas-war-gaza-news-04-27-24 articles count 0\n",
            "https://edition.cnn.com/middleeast/live-news/israel-hamas-war-gaza-news-04-28-24 articles count 0\n",
            "https://edition.cnn.com/middleeast/live-news/israel-hamas-war-gaza-news-04-29-24 articles count 0\n",
            "https://edition.cnn.com/middleeast/live-news/israel-hamas-war-gaza-news-04-30-24 articles count 0\n",
            "https://edition.cnn.com/middleeast/live-news/israel-hamas-war-gaza-news-05-01-24 articles count 0\n",
            "https://edition.cnn.com/middleeast/live-news/israel-hamas-war-gaza-news-05-02-24 articles count 0\n",
            "https://edition.cnn.com/middleeast/live-news/israel-hamas-war-gaza-news-05-03-24 articles count 0\n",
            "https://edition.cnn.com/middleeast/live-news/israel-hamas-war-gaza-news-05-04-24 articles count 10\n",
            "https://edition.cnn.com/middleeast/live-news/israel-hamas-war-gaza-news-05-05-24 articles count 0\n",
            "https://edition.cnn.com/middleeast/live-news/israel-hamas-war-gaza-news-05-06-24 articles count 0\n",
            "https://edition.cnn.com/middleeast/live-news/israel-hamas-war-gaza-news-05-07-24 articles count 57\n",
            "https://edition.cnn.com/middleeast/live-news/israel-hamas-war-gaza-news-05-08-24 articles count 43\n",
            "https://edition.cnn.com/middleeast/live-news/israel-hamas-war-gaza-news-05-09-24 articles count 35\n",
            "https://edition.cnn.com/middleeast/live-news/israel-hamas-war-gaza-news-05-10-24 articles count 37\n",
            "https://edition.cnn.com/middleeast/live-news/israel-hamas-war-gaza-news-05-11-24 articles count 29\n",
            "https://edition.cnn.com/middleeast/live-news/israel-hamas-war-gaza-news-05-12-24 articles count 21\n",
            "https://edition.cnn.com/middleeast/live-news/israel-hamas-war-gaza-news-05-13-24 articles count 36\n",
            "https://edition.cnn.com/middleeast/live-news/israel-hamas-war-gaza-news-05-14-24 articles count 33\n",
            "https://edition.cnn.com/middleeast/live-news/israel-hamas-war-gaza-news-05-15-24 articles count 0\n",
            "https://edition.cnn.com/middleeast/live-news/israel-hamas-war-gaza-news-05-16-24 articles count 0\n",
            "https://edition.cnn.com/middleeast/live-news/israel-hamas-war-gaza-news-05-17-24 articles count 39\n",
            "https://edition.cnn.com/middleeast/live-news/israel-hamas-war-gaza-news-05-18-24 articles count 18\n",
            "https://edition.cnn.com/middleeast/live-news/israel-hamas-war-gaza-news-05-19-24 articles count 14\n",
            "https://edition.cnn.com/middleeast/live-news/israel-hamas-war-gaza-news-05-20-24 articles count 50\n",
            "https://edition.cnn.com/middleeast/live-news/israel-hamas-war-gaza-news-05-21-24 articles count 48\n",
            "https://edition.cnn.com/middleeast/live-news/israel-hamas-war-gaza-news-05-22-24 articles count 0\n",
            "https://edition.cnn.com/middleeast/live-news/israel-hamas-war-gaza-news-05-23-24 articles count 0\n",
            "https://edition.cnn.com/middleeast/live-news/israel-hamas-war-gaza-news-05-24-24 articles count 47\n",
            "https://edition.cnn.com/middleeast/live-news/israel-hamas-war-gaza-news-05-25-24 articles count 0\n",
            "https://edition.cnn.com/middleeast/live-news/israel-hamas-war-gaza-news-05-26-24 articles count 22\n",
            "https://edition.cnn.com/middleeast/live-news/israel-hamas-war-gaza-news-05-27-24 articles count 45\n",
            "https://edition.cnn.com/middleeast/live-news/israel-hamas-war-gaza-news-05-28-24 articles count 49\n",
            "https://edition.cnn.com/middleeast/live-news/israel-hamas-war-gaza-news-05-29-24 articles count 38\n",
            "https://edition.cnn.com/middleeast/live-news/israel-hamas-war-gaza-news-05-30-24 articles count 28\n",
            "https://edition.cnn.com/middleeast/live-news/israel-hamas-war-gaza-news-05-31-24 articles count 0\n",
            "https://edition.cnn.com/middleeast/live-news/israel-hamas-war-gaza-news-06-01-24 articles count 17\n",
            "https://edition.cnn.com/middleeast/live-news/israel-hamas-war-gaza-news-06-02-24 articles count 0\n",
            "https://edition.cnn.com/middleeast/live-news/israel-hamas-war-gaza-news-06-03-24 articles count 0\n",
            "https://edition.cnn.com/middleeast/live-news/israel-hamas-war-gaza-news-06-04-24 articles count 0\n",
            "https://edition.cnn.com/middleeast/live-news/israel-hamas-war-gaza-news-06-05-24 articles count 31\n",
            "https://edition.cnn.com/middleeast/live-news/israel-hamas-war-gaza-news-06-06-24 articles count 42\n",
            "https://edition.cnn.com/middleeast/live-news/israel-hamas-war-gaza-news-06-07-24 articles count 0\n",
            "https://edition.cnn.com/middleeast/live-news/israel-hamas-war-gaza-news-06-08-24 articles count 36\n",
            "https://edition.cnn.com/middleeast/live-news/israel-hamas-war-gaza-news-06-09-24 articles count 21\n",
            "https://edition.cnn.com/middleeast/live-news/israel-hamas-war-gaza-news-06-10-24 articles count 37\n",
            "https://edition.cnn.com/middleeast/live-news/israel-hamas-war-gaza-news-06-11-24 articles count 0\n",
            "https://edition.cnn.com/middleeast/live-news/israel-hamas-war-gaza-news-06-12-24 articles count 0\n",
            "https://edition.cnn.com/middleeast/live-news/israel-hamas-war-gaza-news-06-13-24 articles count 28\n",
            "https://edition.cnn.com/middleeast/live-news/israel-hamas-war-gaza-news-06-14-24 articles count 0\n"
          ]
        }
      ],
      "source": [
        "site = 'https://edition.cnn.com/middleeast/live-news/israel-hamas-war-gaza-news-'\n",
        "\n",
        "# set here start date, final date and filename for data saving\n",
        "\n",
        "\n",
        "FORMAT = '%m-%d-%Y'\n",
        "start_day = datetime.datetime.strptime('03-01-2024', FORMAT)\n",
        "fin_day   = datetime.datetime.strptime('06-14-2024', FORMAT)\n",
        "filename = 'cnn-news-israel-hamas-war.txt'\n",
        "\n",
        "\n",
        "\n",
        "# clear file\n",
        "file = open(filename, 'w')\n",
        "file.write('date\\turl\\n')\n",
        "file.close()\n",
        "\n",
        "\n",
        "day = start_day + timedelta(days=-1)\n",
        "while day < fin_day:\n",
        "  day = day + timedelta(days=1)\n",
        "  # get page\n",
        "  url = f'{site}{day:%m-%d-%y}'\n",
        "  print(url, end='')\n",
        "  try:\n",
        "    req = requests.get(url, allow_redirects=True, timeout=1)\n",
        "    html = req.content.decode('utf8')\n",
        "    soup = BeautifulSoup(html, \"html.parser\")\n",
        "  except:\n",
        "    print(' no data')\n",
        "    continue\n",
        "  # parse headers\n",
        "  txt = f'{day:%m-%d-%y}\\t{url}\\n'\n",
        "  try:\n",
        "    articles = soup.find_all('article')\n",
        "    print(f' articles count {len(articles)}')\n",
        "  except:\n",
        "    continue\n",
        "  for i, article in enumerate(articles):\n",
        "      text = article.get_text().strip()\n",
        "      sentences = text.split('\\n')\n",
        "      if len(sentences) > 0:\n",
        "        header = sentences[0]\n",
        "        txt += f'\\t{i}. {header}\\n'\n",
        "  # write result\n",
        "  with open(filename, 'a') as f:\n",
        "    f.write(txt)\n",
        "\n",
        "\n",
        "\n"
      ]
    },
    {
      "cell_type": "code",
      "source": [],
      "metadata": {
        "id": "W1x8UfZhDsBB"
      },
      "execution_count": 3,
      "outputs": []
    }
  ]
}