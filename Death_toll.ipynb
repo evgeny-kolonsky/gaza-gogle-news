{
  "nbformat": 4,
  "nbformat_minor": 0,
  "metadata": {
    "colab": {
      "provenance": [],
      "authorship_tag": "ABX9TyMT+dptCI+FsNoWWv5UoEDd",
      "include_colab_link": true
    },
    "kernelspec": {
      "name": "python3",
      "display_name": "Python 3"
    },
    "language_info": {
      "name": "python"
    }
  },
  "cells": [
    {
      "cell_type": "markdown",
      "metadata": {
        "id": "view-in-github",
        "colab_type": "text"
      },
      "source": [
        "<a href=\"https://colab.research.google.com/github/evgeny-kolonsky/gaza-news/blob/main/Death_toll.ipynb\" target=\"_parent\"><img src=\"https://colab.research.google.com/assets/colab-badge.svg\" alt=\"Open In Colab\"/></a>"
      ]
    },
    {
      "cell_type": "markdown",
      "source": [
        "# Death toll view\n",
        "\n",
        "get data collected from Goggle News with keyword 'Gaza'\n",
        "\n",
        "filter 'death poll' mentions and plot on timeline plot."
      ],
      "metadata": {
        "id": "KMIjlJX9N0Fu"
      }
    },
    {
      "cell_type": "code",
      "source": [
        "import pandas as pd\n",
        "from urllib.request import urlopen\n",
        "import altair as alt\n",
        "import matplotlib.pyplot as plt\n",
        "from bs4 import BeautifulSoup as soup\n",
        "import requests"
      ],
      "metadata": {
        "id": "dpaVuyYGOO6E"
      },
      "execution_count": 1,
      "outputs": []
    },
    {
      "cell_type": "markdown",
      "source": [
        "## Extract news headlines with `death toll` mention"
      ],
      "metadata": {
        "id": "efEM6AJLOYB8"
      }
    },
    {
      "cell_type": "code",
      "source": [
        "url = \"https://raw.githubusercontent.com/evgeny-kolonsky/gaza-news/main/gaza-news.txt\"\n",
        "\n",
        "exclude_numbers = [7, 250, 240, 239, 1200] # Oct 7; 250, 240, 239 hostages; 1200 Israelis killed\n",
        "\n",
        "def extract_biggest_number(text):\n",
        "  numbers = [int(s) for s in text.split() if s.isdigit()]\n",
        "  numbers = [n for n in numbers if n not in exclude_numbers]\n",
        "  numbers.sort(reverse=True)\n",
        "  if len(numbers) > 0:\n",
        "    return numbers[0]\n",
        "  else:\n",
        "    return 0\n",
        "\n",
        "txt = ''\n",
        "data = urlopen(url).readlines()\n",
        "for line in data:\n",
        "  line = line.decode().lower().strip()\n",
        "  try:\n",
        "    date, publisher, title, origin = line.split('\\t')\n",
        "  except:\n",
        "    continue\n",
        "  title = title.replace(',','') # to read numbers such as 10,000 with comma\n",
        "  if 'death toll' in title:\n",
        "    number = extract_biggest_number(title)\n",
        "    if number > 0:\n",
        "      txt += f'{date}\\t{number}\\t{publisher}\\t{title}\\t{origin}\\n'\n",
        "\n",
        "filename = 'death-toll.tsv'\n",
        "with open(filename, 'w') as f:\n",
        "  f.write('date\\ttoll\\tpublisher\\ttitle\\torigin\\n')\n",
        "  f.write(txt)"
      ],
      "metadata": {
        "id": "Hl6VshorbfSP"
      },
      "execution_count": 2,
      "outputs": []
    },
    {
      "cell_type": "markdown",
      "source": [
        "## Load filter data as `pandas dataframe`"
      ],
      "metadata": {
        "id": "stK2p2iGPFA4"
      }
    },
    {
      "cell_type": "code",
      "source": [
        "dtypes ={'date': 'str',\n",
        "                  'toll': 'int',\n",
        "                  'publisher': 'str',\n",
        "                  'title': 'str',\n",
        "                  'url': 'str'}\n",
        "df  = pd.read_csv('death-toll.tsv', delimiter='\\t',\n",
        "                  dtype=dtypes, date_format=\"%Y-%m-%d\")\n",
        "df['date'] = pd.to_datetime(df['date'])\n",
        "df.head()"
      ],
      "metadata": {
        "colab": {
          "base_uri": "https://localhost:8080/",
          "height": 293
        },
        "id": "Zls5myQBPLAD",
        "outputId": "18f7bf80-0f74-440e-8507-b195b5585f5c"
      },
      "execution_count": 4,
      "outputs": [
        {
          "output_type": "execute_result",
          "data": {
            "text/plain": [
              "        date  toll                                     publisher  \\\n",
              "0 2023-10-17  3478                      anadolu agency | english   \n",
              "1 2023-10-18  4000                                     reliefweb   \n",
              "2 2023-10-22  5000  united nations sustainable development group   \n",
              "3 2023-10-22  5000                                       un news   \n",
              "4 2023-10-22  5000                            al jazeera english   \n",
              "\n",
              "                                               title  \\\n",
              "0  palestinian death toll in gaza conflict rises ...   \n",
              "1  israel destroys a quarter of northern gaza str...   \n",
              "2  unsdg | gaza death toll passes 5000 with no ce...   \n",
              "3  israel-palestine: gaza death toll passes 5000 ...   \n",
              "4  gaza death toll tops 5000 nearly half of them ...   \n",
              "\n",
              "                                              origin  \n",
              "0  https://news.google.com/rss/articles/cbmifwh0d...  \n",
              "1  https://reliefweb.int/report/occupied-palestin...  \n",
              "2  https://unsdg.un.org/latest/stories/gaza-death...  \n",
              "3  https://news.google.com/rss/articles/cbmilgh0d...  \n",
              "4  https://www.aljazeera.com/news/2023/10/23/gaza...  "
            ],
            "text/html": [
              "\n",
              "  <div id=\"df-a1d49517-1cf2-42e1-8a7c-5351bec060e5\" class=\"colab-df-container\">\n",
              "    <div>\n",
              "<style scoped>\n",
              "    .dataframe tbody tr th:only-of-type {\n",
              "        vertical-align: middle;\n",
              "    }\n",
              "\n",
              "    .dataframe tbody tr th {\n",
              "        vertical-align: top;\n",
              "    }\n",
              "\n",
              "    .dataframe thead th {\n",
              "        text-align: right;\n",
              "    }\n",
              "</style>\n",
              "<table border=\"1\" class=\"dataframe\">\n",
              "  <thead>\n",
              "    <tr style=\"text-align: right;\">\n",
              "      <th></th>\n",
              "      <th>date</th>\n",
              "      <th>toll</th>\n",
              "      <th>publisher</th>\n",
              "      <th>title</th>\n",
              "      <th>origin</th>\n",
              "    </tr>\n",
              "  </thead>\n",
              "  <tbody>\n",
              "    <tr>\n",
              "      <th>0</th>\n",
              "      <td>2023-10-17</td>\n",
              "      <td>3478</td>\n",
              "      <td>anadolu agency | english</td>\n",
              "      <td>palestinian death toll in gaza conflict rises ...</td>\n",
              "      <td>https://news.google.com/rss/articles/cbmifwh0d...</td>\n",
              "    </tr>\n",
              "    <tr>\n",
              "      <th>1</th>\n",
              "      <td>2023-10-18</td>\n",
              "      <td>4000</td>\n",
              "      <td>reliefweb</td>\n",
              "      <td>israel destroys a quarter of northern gaza str...</td>\n",
              "      <td>https://reliefweb.int/report/occupied-palestin...</td>\n",
              "    </tr>\n",
              "    <tr>\n",
              "      <th>2</th>\n",
              "      <td>2023-10-22</td>\n",
              "      <td>5000</td>\n",
              "      <td>united nations sustainable development group</td>\n",
              "      <td>unsdg | gaza death toll passes 5000 with no ce...</td>\n",
              "      <td>https://unsdg.un.org/latest/stories/gaza-death...</td>\n",
              "    </tr>\n",
              "    <tr>\n",
              "      <th>3</th>\n",
              "      <td>2023-10-22</td>\n",
              "      <td>5000</td>\n",
              "      <td>un news</td>\n",
              "      <td>israel-palestine: gaza death toll passes 5000 ...</td>\n",
              "      <td>https://news.google.com/rss/articles/cbmilgh0d...</td>\n",
              "    </tr>\n",
              "    <tr>\n",
              "      <th>4</th>\n",
              "      <td>2023-10-22</td>\n",
              "      <td>5000</td>\n",
              "      <td>al jazeera english</td>\n",
              "      <td>gaza death toll tops 5000 nearly half of them ...</td>\n",
              "      <td>https://www.aljazeera.com/news/2023/10/23/gaza...</td>\n",
              "    </tr>\n",
              "  </tbody>\n",
              "</table>\n",
              "</div>\n",
              "    <div class=\"colab-df-buttons\">\n",
              "\n",
              "  <div class=\"colab-df-container\">\n",
              "    <button class=\"colab-df-convert\" onclick=\"convertToInteractive('df-a1d49517-1cf2-42e1-8a7c-5351bec060e5')\"\n",
              "            title=\"Convert this dataframe to an interactive table.\"\n",
              "            style=\"display:none;\">\n",
              "\n",
              "  <svg xmlns=\"http://www.w3.org/2000/svg\" height=\"24px\" viewBox=\"0 -960 960 960\">\n",
              "    <path d=\"M120-120v-720h720v720H120Zm60-500h600v-160H180v160Zm220 220h160v-160H400v160Zm0 220h160v-160H400v160ZM180-400h160v-160H180v160Zm440 0h160v-160H620v160ZM180-180h160v-160H180v160Zm440 0h160v-160H620v160Z\"/>\n",
              "  </svg>\n",
              "    </button>\n",
              "\n",
              "  <style>\n",
              "    .colab-df-container {\n",
              "      display:flex;\n",
              "      gap: 12px;\n",
              "    }\n",
              "\n",
              "    .colab-df-convert {\n",
              "      background-color: #E8F0FE;\n",
              "      border: none;\n",
              "      border-radius: 50%;\n",
              "      cursor: pointer;\n",
              "      display: none;\n",
              "      fill: #1967D2;\n",
              "      height: 32px;\n",
              "      padding: 0 0 0 0;\n",
              "      width: 32px;\n",
              "    }\n",
              "\n",
              "    .colab-df-convert:hover {\n",
              "      background-color: #E2EBFA;\n",
              "      box-shadow: 0px 1px 2px rgba(60, 64, 67, 0.3), 0px 1px 3px 1px rgba(60, 64, 67, 0.15);\n",
              "      fill: #174EA6;\n",
              "    }\n",
              "\n",
              "    .colab-df-buttons div {\n",
              "      margin-bottom: 4px;\n",
              "    }\n",
              "\n",
              "    [theme=dark] .colab-df-convert {\n",
              "      background-color: #3B4455;\n",
              "      fill: #D2E3FC;\n",
              "    }\n",
              "\n",
              "    [theme=dark] .colab-df-convert:hover {\n",
              "      background-color: #434B5C;\n",
              "      box-shadow: 0px 1px 3px 1px rgba(0, 0, 0, 0.15);\n",
              "      filter: drop-shadow(0px 1px 2px rgba(0, 0, 0, 0.3));\n",
              "      fill: #FFFFFF;\n",
              "    }\n",
              "  </style>\n",
              "\n",
              "    <script>\n",
              "      const buttonEl =\n",
              "        document.querySelector('#df-a1d49517-1cf2-42e1-8a7c-5351bec060e5 button.colab-df-convert');\n",
              "      buttonEl.style.display =\n",
              "        google.colab.kernel.accessAllowed ? 'block' : 'none';\n",
              "\n",
              "      async function convertToInteractive(key) {\n",
              "        const element = document.querySelector('#df-a1d49517-1cf2-42e1-8a7c-5351bec060e5');\n",
              "        const dataTable =\n",
              "          await google.colab.kernel.invokeFunction('convertToInteractive',\n",
              "                                                    [key], {});\n",
              "        if (!dataTable) return;\n",
              "\n",
              "        const docLinkHtml = 'Like what you see? Visit the ' +\n",
              "          '<a target=\"_blank\" href=https://colab.research.google.com/notebooks/data_table.ipynb>data table notebook</a>'\n",
              "          + ' to learn more about interactive tables.';\n",
              "        element.innerHTML = '';\n",
              "        dataTable['output_type'] = 'display_data';\n",
              "        await google.colab.output.renderOutput(dataTable, element);\n",
              "        const docLink = document.createElement('div');\n",
              "        docLink.innerHTML = docLinkHtml;\n",
              "        element.appendChild(docLink);\n",
              "      }\n",
              "    </script>\n",
              "  </div>\n",
              "\n",
              "\n",
              "<div id=\"df-5131b246-ce98-4921-9ed4-77c3760b8a75\">\n",
              "  <button class=\"colab-df-quickchart\" onclick=\"quickchart('df-5131b246-ce98-4921-9ed4-77c3760b8a75')\"\n",
              "            title=\"Suggest charts\"\n",
              "            style=\"display:none;\">\n",
              "\n",
              "<svg xmlns=\"http://www.w3.org/2000/svg\" height=\"24px\"viewBox=\"0 0 24 24\"\n",
              "     width=\"24px\">\n",
              "    <g>\n",
              "        <path d=\"M19 3H5c-1.1 0-2 .9-2 2v14c0 1.1.9 2 2 2h14c1.1 0 2-.9 2-2V5c0-1.1-.9-2-2-2zM9 17H7v-7h2v7zm4 0h-2V7h2v10zm4 0h-2v-4h2v4z\"/>\n",
              "    </g>\n",
              "</svg>\n",
              "  </button>\n",
              "\n",
              "<style>\n",
              "  .colab-df-quickchart {\n",
              "      --bg-color: #E8F0FE;\n",
              "      --fill-color: #1967D2;\n",
              "      --hover-bg-color: #E2EBFA;\n",
              "      --hover-fill-color: #174EA6;\n",
              "      --disabled-fill-color: #AAA;\n",
              "      --disabled-bg-color: #DDD;\n",
              "  }\n",
              "\n",
              "  [theme=dark] .colab-df-quickchart {\n",
              "      --bg-color: #3B4455;\n",
              "      --fill-color: #D2E3FC;\n",
              "      --hover-bg-color: #434B5C;\n",
              "      --hover-fill-color: #FFFFFF;\n",
              "      --disabled-bg-color: #3B4455;\n",
              "      --disabled-fill-color: #666;\n",
              "  }\n",
              "\n",
              "  .colab-df-quickchart {\n",
              "    background-color: var(--bg-color);\n",
              "    border: none;\n",
              "    border-radius: 50%;\n",
              "    cursor: pointer;\n",
              "    display: none;\n",
              "    fill: var(--fill-color);\n",
              "    height: 32px;\n",
              "    padding: 0;\n",
              "    width: 32px;\n",
              "  }\n",
              "\n",
              "  .colab-df-quickchart:hover {\n",
              "    background-color: var(--hover-bg-color);\n",
              "    box-shadow: 0 1px 2px rgba(60, 64, 67, 0.3), 0 1px 3px 1px rgba(60, 64, 67, 0.15);\n",
              "    fill: var(--button-hover-fill-color);\n",
              "  }\n",
              "\n",
              "  .colab-df-quickchart-complete:disabled,\n",
              "  .colab-df-quickchart-complete:disabled:hover {\n",
              "    background-color: var(--disabled-bg-color);\n",
              "    fill: var(--disabled-fill-color);\n",
              "    box-shadow: none;\n",
              "  }\n",
              "\n",
              "  .colab-df-spinner {\n",
              "    border: 2px solid var(--fill-color);\n",
              "    border-color: transparent;\n",
              "    border-bottom-color: var(--fill-color);\n",
              "    animation:\n",
              "      spin 1s steps(1) infinite;\n",
              "  }\n",
              "\n",
              "  @keyframes spin {\n",
              "    0% {\n",
              "      border-color: transparent;\n",
              "      border-bottom-color: var(--fill-color);\n",
              "      border-left-color: var(--fill-color);\n",
              "    }\n",
              "    20% {\n",
              "      border-color: transparent;\n",
              "      border-left-color: var(--fill-color);\n",
              "      border-top-color: var(--fill-color);\n",
              "    }\n",
              "    30% {\n",
              "      border-color: transparent;\n",
              "      border-left-color: var(--fill-color);\n",
              "      border-top-color: var(--fill-color);\n",
              "      border-right-color: var(--fill-color);\n",
              "    }\n",
              "    40% {\n",
              "      border-color: transparent;\n",
              "      border-right-color: var(--fill-color);\n",
              "      border-top-color: var(--fill-color);\n",
              "    }\n",
              "    60% {\n",
              "      border-color: transparent;\n",
              "      border-right-color: var(--fill-color);\n",
              "    }\n",
              "    80% {\n",
              "      border-color: transparent;\n",
              "      border-right-color: var(--fill-color);\n",
              "      border-bottom-color: var(--fill-color);\n",
              "    }\n",
              "    90% {\n",
              "      border-color: transparent;\n",
              "      border-bottom-color: var(--fill-color);\n",
              "    }\n",
              "  }\n",
              "</style>\n",
              "\n",
              "  <script>\n",
              "    async function quickchart(key) {\n",
              "      const quickchartButtonEl =\n",
              "        document.querySelector('#' + key + ' button');\n",
              "      quickchartButtonEl.disabled = true;  // To prevent multiple clicks.\n",
              "      quickchartButtonEl.classList.add('colab-df-spinner');\n",
              "      try {\n",
              "        const charts = await google.colab.kernel.invokeFunction(\n",
              "            'suggestCharts', [key], {});\n",
              "      } catch (error) {\n",
              "        console.error('Error during call to suggestCharts:', error);\n",
              "      }\n",
              "      quickchartButtonEl.classList.remove('colab-df-spinner');\n",
              "      quickchartButtonEl.classList.add('colab-df-quickchart-complete');\n",
              "    }\n",
              "    (() => {\n",
              "      let quickchartButtonEl =\n",
              "        document.querySelector('#df-5131b246-ce98-4921-9ed4-77c3760b8a75 button');\n",
              "      quickchartButtonEl.style.display =\n",
              "        google.colab.kernel.accessAllowed ? 'block' : 'none';\n",
              "    })();\n",
              "  </script>\n",
              "</div>\n",
              "\n",
              "    </div>\n",
              "  </div>\n"
            ],
            "application/vnd.google.colaboratory.intrinsic+json": {
              "type": "dataframe",
              "variable_name": "df",
              "summary": "{\n  \"name\": \"df\",\n  \"rows\": 163,\n  \"fields\": [\n    {\n      \"column\": \"date\",\n      \"properties\": {\n        \"dtype\": \"date\",\n        \"min\": \"2023-10-17 00:00:00\",\n        \"max\": \"2024-06-09 00:00:00\",\n        \"num_unique_values\": 109,\n        \"samples\": [\n          \"2024-03-12 00:00:00\",\n          \"2023-11-05 00:00:00\",\n          \"2023-10-24 00:00:00\"\n        ],\n        \"semantic_type\": \"\",\n        \"description\": \"\"\n      }\n    },\n    {\n      \"column\": \"toll\",\n      \"properties\": {\n        \"dtype\": \"number\",\n        \"std\": 11797,\n        \"min\": 6,\n        \"max\": 69028,\n        \"num_unique_values\": 103,\n        \"samples\": [\n          21978,\n          30800,\n          29782\n        ],\n        \"semantic_type\": \"\",\n        \"description\": \"\"\n      }\n    },\n    {\n      \"column\": \"publisher\",\n      \"properties\": {\n        \"dtype\": \"category\",\n        \"num_unique_values\": 31,\n        \"samples\": [\n          \"the times of israel\",\n          \"the washington post\",\n          \"the independent\"\n        ],\n        \"semantic_type\": \"\",\n        \"description\": \"\"\n      }\n    },\n    {\n      \"column\": \"title\",\n      \"properties\": {\n        \"dtype\": \"string\",\n        \"num_unique_values\": 160,\n        \"samples\": [\n          \"'life draining out of gaza': un on aid shooting as death toll hits 30000 - al jazeera english\",\n          \"israel accused of opening fire on gaza civilians waiting for food as hamas says war death toll over 30000 people - cbs news\",\n          \"gaza death toll passes 34000 as israel and iran missile strikes grab global attention - the guardian\"\n        ],\n        \"semantic_type\": \"\",\n        \"description\": \"\"\n      }\n    },\n    {\n      \"column\": \"origin\",\n      \"properties\": {\n        \"dtype\": \"string\",\n        \"num_unique_values\": 162,\n        \"samples\": [\n          \"https://www.aljazeera.com/news/liveblog/2024/6/8/israels-war-on-gaza-live-israeli-army-to-be-added-to-un-child-harm-list\",\n          \"https://www.nbcnews.com/news/world/israel-hamas-gaza-war-death-toll-reaches-30000-palestinians-rcna140843\",\n          \"https://news.google.com/rss/articles/cbmix2h0dhbzoi8vd3d3lmfhlmnvbs50ci9lbi9tawrkbgutzwfzdc9nyxphlwrlyxrolxrvbgwtznjvbs1pc3jhzwxplwf0dgfja3mtcgfzc2vzltmyltmwmc8zmtc0mjqx0gea?oc=5&hl=en-us&gl=us&ceid=us:en\"\n        ],\n        \"semantic_type\": \"\",\n        \"description\": \"\"\n      }\n    }\n  ]\n}"
            }
          },
          "metadata": {},
          "execution_count": 4
        }
      ]
    },
    {
      "cell_type": "markdown",
      "source": [
        "## Plot timeline data"
      ],
      "metadata": {
        "id": "6AQOBM5uOnc4"
      }
    },
    {
      "cell_type": "markdown",
      "source": [
        "### Simple plot"
      ],
      "metadata": {
        "id": "ao_KjKRzPh6u"
      }
    },
    {
      "cell_type": "code",
      "source": [
        "plt.scatter(df['date'], df['toll']/1000, marker='.')\n",
        "plt.grid()\n",
        "plt.xlabel('date')\n",
        "plt.ylabel('death toll, thousands')\n",
        "plt.xticks(rotation=45, ha='right');"
      ],
      "metadata": {
        "colab": {
          "base_uri": "https://localhost:8080/",
          "height": 486
        },
        "id": "7OznY9BJPk6g",
        "outputId": "a96de3e2-65b7-4aa1-8e61-ebd2b2b7465a"
      },
      "execution_count": 4,
      "outputs": [
        {
          "output_type": "display_data",
          "data": {
            "text/plain": [
              "<Figure size 640x480 with 1 Axes>"
            ],
            "image/png": "[encoded data removed]"
          },
          "metadata": {}
        }
      ]
    },
    {
      "cell_type": "markdown",
      "source": [
        "### Interactive plot"
      ],
      "metadata": {
        "id": "l97Wx-bpPxN2"
      }
    },
    {
      "cell_type": "code",
      "source": [
        "alt.Chart(df).mark_point().encode(\n",
        "    x='date',\n",
        "    y='toll',\n",
        "    tooltip=['date', 'publisher', 'title', 'origin'],\n",
        ").interactive()"
      ],
      "metadata": {
        "colab": {
          "base_uri": "https://localhost:8080/",
          "height": 368
        },
        "id": "bdSEKhRUII3m",
        "outputId": "efb87065-3cb6-41b2-b9ec-1855cede9720"
      },
      "execution_count": 5,
      "outputs": [
        {
          "output_type": "execute_result",
          "data": {
            "text/html": [
              "\n",
              "<div id=\"altair-viz-9cfb94ad12bd485ab86be7b25be0ba6c\"></div>\n",
              "<script type=\"text/javascript\">\n",
              "  var VEGA_DEBUG = (typeof VEGA_DEBUG == \"undefined\") ? {} : VEGA_DEBUG;\n",
              "  (function(spec, embedOpt){\n",
              "    let outputDiv = document.currentScript.previousElementSibling;\n",
              "    if (outputDiv.id !== \"altair-viz-9cfb94ad12bd485ab86be7b25be0ba6c\") {\n",
              "      outputDiv = document.getElementById(\"altair-viz-9cfb94ad12bd485ab86be7b25be0ba6c\");\n",
              "    }\n",
              "    const paths = {\n",
              "      \"vega\": \"https://cdn.jsdelivr.net/npm//vega@5?noext\",\n",
              "      \"vega-lib\": \"https://cdn.jsdelivr.net/npm//vega-lib?noext\",\n",
              "      \"vega-lite\": \"https://cdn.jsdelivr.net/npm//vega-lite@4.17.0?noext\",\n",
              "      \"vega-embed\": \"https://cdn.jsdelivr.net/npm//vega-embed@6?noext\",\n",
              "    };\n",
              "\n",
              "    function maybeLoadScript(lib, version) {\n",
              "      var key = `${lib.replace(\"-\", \"\")}_version`;\n",
              "      return (VEGA_DEBUG[key] == version) ?\n",
              "        Promise.resolve(paths[lib]) :\n",
              "        new Promise(function(resolve, reject) {\n",
              "          var s = document.createElement('script');\n",
              "          document.getElementsByTagName(\"head\")[0].appendChild(s);\n",
              "          s.async = true;\n",
              "          s.onload = () => {\n",
              "            VEGA_DEBUG[key] = version;\n",
              "            return resolve(paths[lib]);\n",
              "          };\n",
              "          s.onerror = () => reject(`Error loading script: ${paths[lib]}`);\n",
              "          s.src = paths[lib];\n",
              "        });\n",
              "    }\n",
              "\n",
              "    function showError(err) {\n",
              "      outputDiv.innerHTML = `<div class=\"error\" style=\"color:red;\">${err}</div>`;\n",
              "      throw err;\n",
              "    }\n",
              "\n",
              "    function displayChart(vegaEmbed) {\n",
              "      vegaEmbed(outputDiv, spec, embedOpt)\n",
              "        .catch(err => showError(`Javascript Error: ${err.message}<br>This usually means there's a typo in your chart specification. See the javascript console for the full traceback.`));\n",
              "    }\n",
              "\n",
              "    if(typeof define === \"function\" && define.amd) {\n",
              "      requirejs.config({paths});\n",
              "      require([\"vega-embed\"], displayChart, err => showError(`Error loading script: ${err.message}`));\n",
              "    } else {\n",
              "      maybeLoadScript(\"vega\", \"5\")\n",
              "        .then(() => maybeLoadScript(\"vega-lite\", \"4.17.0\"))\n",
              "        .then(() => maybeLoadScript(\"vega-embed\", \"6\"))\n",
              "        .catch(showError)\n",
              "        .then(() => displayChart(vegaEmbed));\n",
              "    }\n",
              "  })({\"config\": {\"view\": {\"continuousWidth\": 400, \"continuousHeight\": 300}}, \"data\": {\"name\": \"data-425187737e7c1f9224098ecdef164513\"}, \"mark\": \"point\", \"encoding\": {\"tooltip\": [{\"field\": \"date\", \"type\": \"temporal\"}, {\"field\": \"publisher\", \"type\": \"nominal\"}, {\"field\": \"title\", \"type\": \"nominal\"}, {\"field\": \"origin\", \"type\": \"nominal\"}], \"x\": {\"field\": \"date\", \"type\": \"temporal\"}, \"y\": {\"field\": \"toll\", \"type\": \"quantitative\"}}, \"selection\": {\"selector001\": {\"type\": \"interval\", \"bind\": \"scales\", \"encodings\": [\"x\", \"y\"]}}, \"$schema\": \"https://vega.github.io/schema/vega-lite/v4.17.0.json\", \"datasets\": {\"data-425187737e7c1f9224098ecdef164513\": [{\"date\": \"2023-10-07T00:00:00\", \"toll\": 1200, \"publisher\": \"the associated press\", \"title\": \"israel battles hamas militants as death toll nears 1200 - the associated press\", \"origin\": \"https://apnews.com/article/israel-palestinians-gaza-hamas-rockets-airstrikes-tel-aviv-ca7903976387cfc1e1011ce9ea805a71\"}, {\"date\": \"2023-10-17T00:00:00\", \"toll\": 3478, \"publisher\": \"anadolu agency | english\", \"title\": \"palestinian death toll in gaza conflict rises to 3478 says gaza health ministry - anadolu agency | english\", \"origin\": \"https://news.google.com/rss/articles/cbmifwh0dhbzoi8vd3d3lmfhlmnvbs50ci9lbi9tawrkbgutzwfzdc9wywxlc3rpbmlhbi1kzwf0ac10b2xslwlulwdhemety29uzmxpy3qtcmlzzxmtdg8tmy00nzgtc2f5cy1nyxphlwhlywx0ac1taw5pc3ryes8zmdi1mdmz0gea?oc=5&hl=en-us&gl=us&ceid=us:en\"}, {\"date\": \"2023-10-18T00:00:00\", \"toll\": 4000, \"publisher\": \"reliefweb\", \"title\": \"israel destroys a quarter of northern gaza strip palestinian death toll exceeds 4000 [en/ar] - occupied palestinian ... - reliefweb\", \"origin\": \"https://reliefweb.int/report/occupied-palestinian-territory/israel-destroys-quarter-northern-gaza-strip-palestinian-death-toll-exceeds-4000-enar\"}, {\"date\": \"2023-10-22T00:00:00\", \"toll\": 5000, \"publisher\": \"united nations sustainable development group\", \"title\": \"unsdg | gaza death toll passes 5000 with no ceasefire in sight - united nations sustainable development group\", \"origin\": \"https://unsdg.un.org/latest/stories/gaza-death-toll-passes-5000-no-ceasefire-sight\"}, {\"date\": \"2023-10-22T00:00:00\", \"toll\": 5000, \"publisher\": \"un news\", \"title\": \"israel-palestine: gaza death toll passes 5000 with no ceasefire in sight - un news\", \"origin\": \"https://news.google.com/rss/articles/cbmilgh0dhbzoi8vbmv3cy51bi5vcmcvzw4vc3rvcnkvmjaymy8xmc8xmtqynjg30gea?oc=5&hl=en-us&gl=us&ceid=us:en\"}, {\"date\": \"2023-10-22T00:00:00\", \"toll\": 5000, \"publisher\": \"al jazeera english\", \"title\": \"gaza death toll tops 5000 nearly half of them children: officials - al jazeera english\", \"origin\": \"https://www.aljazeera.com/news/2023/10/23/gaza-death-toll-exceeds-5000-as-israel-continues-daily-bombardments\"}, {\"date\": \"2023-10-22T00:00:00\", \"toll\": 5000, \"publisher\": \"department of political and peacebuilding affairs\", \"title\": \"israel-palestine: gaza death toll passes 5000 with no ceasefire in sight | department of political and peacebuilding ... - department of political and peacebuilding affairs\", \"origin\": \"https://dppa.un.org/en/israel-palestine-gaza-death-toll-passes-5000-with-no-ceasefire-sight\"}, {\"date\": \"2023-10-23T00:00:00\", \"toll\": 5000, \"publisher\": \"un news\", \"title\": \"israel-palestine: gaza death toll passes 5000 with no ceasefire in sight - un news\", \"origin\": \"https://news.un.org/en/story/2023/10/1142687\"}, {\"date\": \"2023-10-24T00:00:00\", \"toll\": 6546, \"publisher\": \"anadolu agency | english\", \"title\": \"gaza's death toll soars to 6546 amid israeli airstrikes - anadolu agency | english\", \"origin\": \"https://news.google.com/rss/articles/cbmizwh0dhbzoi8vd3d3lmfhlmnvbs50ci9lbi9tawrkbgutzwfzdc9nyxphlxmtzgvhdggtdg9sbc1zb2fycy10by02ltu0ni1hbwlklwlzcmflbgktywlyc3ryawtlcy8zmdmymzq30gea?oc=5&hl=en-us&gl=us&ceid=us:en\"}, {\"date\": \"2023-10-28T00:00:00\", \"toll\": 8000, \"publisher\": \"the associated press\", \"title\": \"palestinian death toll has risen past 8000 gaza's health ministry says - the associated press\", \"origin\": \"https://apnews.com/article/israel-hamas-war-news-10-29-2023-de1a7d660ba2f6d80b3d7aeaae5bb0f3\"}, {\"date\": \"2023-10-28T00:00:00\", \"toll\": 8000, \"publisher\": \"al jazeera english\", \"title\": \"israel begins \\u2018second stage\\u2019 of war as gaza death toll passes 8000 - al jazeera english\", \"origin\": \"https://www.aljazeera.com/gallery/2023/10/29/palestinians-urged-to-evacuate-gaza-city-as-airstrikes-hit-south-gaza\"}, {\"date\": \"2023-10-29T00:00:00\", \"toll\": 8000, \"publisher\": \"cbs news\", \"title\": \"as israel ramps up its ground war hamas says death toll in gaza strip has soared over 8000 - cbs news\", \"origin\": \"https://www.cbsnews.com/news/israel-war-hamas-says-gaza-death-toll-8000-idf-ground-troops/\"}, {\"date\": \"2023-11-01T00:00:00\", \"toll\": 9061, \"publisher\": \"anadolu agency | english\", \"title\": \"gaza's death toll from israeli assault soars to 9061 - anadolu agency | english\", \"origin\": \"https://news.google.com/rss/articles/cbmiymh0dhbzoi8vd3d3lmfhlmnvbs50ci9lbi9tawrkbgutzwfzdc9nyxphlxmtzgvhdggtdg9sbc1mcm9tlwlzcmflbgktyxnzyxvsdc1zb2fycy10by05lta2ms8zmdqxmzy20gea?oc=5&hl=en-us&gl=us&ceid=us:en\"}, {\"date\": \"2023-11-02T00:00:00\", \"toll\": 9227, \"publisher\": \"anadolu agency | english\", \"title\": \"gaza's death toll from israeli attacks soars to 9227 - anadolu agency | english\", \"origin\": \"https://news.google.com/rss/articles/cbmiymh0dhbzoi8vd3d3lmfhlmnvbs50ci9lbi9tawrkbgutzwfzdc9nyxphlxmtzgvhdggtdg9sbc1mcm9tlwlzcmflbgktyxr0ywnrcy1zb2fycy10by05ltiyny8zmdqyntay0gea?oc=5&hl=en-us&gl=us&ceid=us:en\"}, {\"date\": \"2023-11-04T00:00:00\", \"toll\": 9500, \"publisher\": \"anadolu agency | english\", \"title\": \"palestinian death toll reached 9500 including over 6400 children and women - anadolu agency | english\", \"origin\": \"https://news.google.com/rss/articles/cbmiewh0dhbzoi8vd3d3lmfhlmnvbs50ci9lbi9tawrkbgutzwfzdc9wywxlc3rpbmlhbi1kzwf0ac10b2xslxjlywnozwqtos01mdataw5jbhvkaw5nlw92zxitni00mdaty2hpbgryzw4tyw5klxdvbwvulzmwndqwmdhsaqa?oc=5&hl=en-us&gl=us&ceid=us:en\"}, {\"date\": \"2023-11-05T00:00:00\", \"toll\": 10000, \"publisher\": \"npr\", \"title\": \"israel-hamas conflict: the gaza death toll surpasses 10000 - npr\", \"origin\": \"https://www.npr.org/2023/11/06/1210831466/death-toll-gaza-israel-hamas-conflict\"}, {\"date\": \"2023-11-05T00:00:00\", \"toll\": 10000, \"publisher\": \"the new york times\", \"title\": \"gaza death toll has hit 10000 its health ministry says - the new york times\", \"origin\": \"https://www.nytimes.com/2023/11/06/world/middleeast/gaza-death-toll-israel-hamas-war.html\"}, {\"date\": \"2023-11-05T00:00:00\", \"toll\": 10000, \"publisher\": \"the associated press\", \"title\": \"israel - hamas war: palestinian death toll passes 10000 - the associated press\", \"origin\": \"https://apnews.com/article/israel-hamas-war-news-11-6-2023-51286d15dddd77ae0dd7ea76ee52bc71\"}, {\"date\": \"2023-11-05T00:00:00\", \"toll\": 10000, \"publisher\": \"bbc\", \"title\": \"israel gaza war: hamas-run health ministry says gaza death toll passes 10000 - bbc\", \"origin\": \"https://www.bbc.co.uk/news/world-middle-east-67332684\"}, {\"date\": \"2023-11-06T00:00:00\", \"toll\": 10000, \"publisher\": \"pbs newshour\", \"title\": \"israeli forces cut off north gaza as palestinian death toll from monthlong war passes 10000 - pbs newshour\", \"origin\": \"https://www.pbs.org/newshour/world/israeli-forces-cut-off-north-gaza-as-palestinian-death-toll-from-monthlong-war-passes-10000\"}, {\"date\": \"2023-11-06T00:00:00\", \"toll\": 10000, \"publisher\": \"nbc news\", \"title\": \"gaza death toll passes 10000 health ministry says - nbc news\", \"origin\": \"https://www.nbcnews.com/news/world/live-blog/israel-hamas-war-live-updates-rcna123761\"}, {\"date\": \"2023-11-09T00:00:00\", \"toll\": 11000, \"publisher\": \"reuters\", \"title\": \"us voices concern over killing of palestinians as gaza death toll tops 11000 - reuters\", \"origin\": \"https://www.reuters.com/world/middle-east/gaza-officials-say-hospitals-come-under-new-israeli-attacks-2023-11-10/\"}, {\"date\": \"2023-11-09T00:00:00\", \"toll\": 11000, \"publisher\": \"cbc news\", \"title\": \"u.s. voices concern as gaza hospitals hit reported overall palestinian death toll tops 11000 - cbc news\", \"origin\": \"https://www.cbc.ca/news/world/israel-hamas-war-gaza-1.7024762\"}, {\"date\": \"2023-11-12T00:00:00\", \"toll\": 200, \"publisher\": \"the washington post\", \"title\": \"gaza\\u2019s death toll: 1 out of every 200 have been killed according to health ministry - the washington post\", \"origin\": \"https://www.washingtonpost.com/world/interactive/2023/gaza-rising-death-toll-civilians/\"}, {\"date\": \"2023-11-13T00:00:00\", \"toll\": 11320, \"publisher\": \"anadolu agency | english\", \"title\": \"gaza death toll soars to 11320 amid relentless israeli attacks including 4650 children - anadolu agency | english\", \"origin\": \"https://news.google.com/rss/articles/cbmihqfodhrwczovl3d3dy5hys5jb20udhivzw4vbwlkzgxllwvhc3qvz2f6ys1kzwf0ac10b2xslxnvyxjzlxrvltexltmymc1hbwlklxjlbgvudgxlc3mtaxnyywvsas1hdhrhy2tzlwluy2x1zgluzy00lty1mc1jaglszhjlbi8zmduznzax0gea?oc=5&hl=en-us&gl=us&ceid=us:en\"}, {\"date\": \"2023-11-18T00:00:00\", \"toll\": 13000, \"publisher\": \"anadolu agency | english\", \"title\": \"palestinian death toll in gaza strip rises to 13000 since oct. 7 - anadolu agency | english\", \"origin\": \"https://news.google.com/rss/articles/cbmibwh0dhbzoi8vd3d3lmfhlmnvbs50ci9lbi9tawrkbgutzwfzdc9wywxlc3rpbmlhbi1kzwf0ac10b2xslwlulwdhemetc3ryaxatcmlzzxmtdg8tmtmtmdawlxnpbmnllw9jdc03lzmwntg4nttsaqa?oc=5&hl=en-us&gl=us&ceid=us:en\"}, {\"date\": \"2023-11-19T00:00:00\", \"toll\": 13300, \"publisher\": \"anadolu agency | english\", \"title\": \"palestinian death toll in gaza jumps to over 13300 - anadolu agency | english\", \"origin\": \"https://news.google.com/rss/articles/cbmiygh0dhbzoi8vd3d3lmfhlmnvbs50ci9lbi9tawrkbgutzwfzdc9wywxlc3rpbmlhbi1kzwf0ac10b2xslwlulwdhemetanvtchmtdg8tb3zlci0xmy0zmdavmza1otg0nnibaa?oc=5&hl=en-us&gl=us&ceid=us:en\"}, {\"date\": \"2023-11-20T00:00:00\", \"toll\": 14100, \"publisher\": \"anadolu agency | english\", \"title\": \"gaza death toll from israeli attacks tops 14100 - anadolu agency | english\", \"origin\": \"https://news.google.com/rss/articles/cbmixwh0dhbzoi8vd3d3lmfhlmnvbs50ci9lbi9tawrkbgutzwfzdc9nyxphlwrlyxrolxrvbgwtznjvbs1pc3jhzwxplwf0dgfja3mtdg9wcy0xnc0xmdavmza2mdg0ntibaa?oc=5&hl=en-us&gl=us&ceid=us:en\"}, {\"date\": \"2023-11-21T00:00:00\", \"toll\": 14532, \"publisher\": \"anadolu agency | english\", \"title\": \"gaza death toll since oct. 7 climbs to 14532 including more than 6000 children - anadolu agency | english\", \"origin\": \"https://news.google.com/rss/articles/cbmifwh0dhbzoi8vd3d3lmfhlmnvbs50ci9lbi9tawrkbgutzwfzdc9nyxphlwrlyxrolxrvbgwtc2luy2utb2n0ltcty2xpbwjzlxrvlte0ltuzmi1pbmnsdwrpbmctbw9yzs10agfultytmdawlwnoawxkcmvuls8zmdyymtm30gea?oc=5&hl=en-us&gl=us&ceid=us:en\"}, {\"date\": \"2023-11-22T00:00:00\", \"toll\": 14800, \"publisher\": \"anadolu agency | english\", \"title\": \"gaza death toll from israeli attacks tops 14800 - anadolu agency | english\", \"origin\": \"https://news.google.com/rss/articles/cbmixwh0dhbzoi8vd3d3lmfhlmnvbs50ci9lbi9tawrkbgutzwfzdc9nyxphlwrlyxrolxrvbgwtznjvbs1pc3jhzwxplwf0dgfja3mtdg9wcy0xnc04mdavmza2mza2m9ibaa?oc=5&hl=en-us&gl=us&ceid=us:en\"}, {\"date\": \"2023-11-26T00:00:00\", \"toll\": 15000, \"publisher\": \"anadolu agency | english\", \"title\": \"gaza death toll from israeli attacks now tops 15000 - anadolu agency | english\", \"origin\": \"https://news.google.com/rss/articles/cbmiywh0dhbzoi8vd3d3lmfhlmnvbs50ci9lbi9tawrkbgutzwfzdc9nyxphlwrlyxrolxrvbgwtznjvbs1pc3jhzwxplwf0dgfja3mtbm93lxrvchmtmtutmdawlzmwnjy0mtjsaqa?oc=5&hl=en-us&gl=us&ceid=us:en\"}, {\"date\": \"2023-12-02T00:00:00\", \"toll\": 15500, \"publisher\": \"anadolu agency | english\", \"title\": \"death toll soars to over 15500 as israeli attacks on gaza strip continue - anadolu agency | english\", \"origin\": \"https://news.google.com/rss/articles/cbmidmh0dhbzoi8vd3d3lmfhlmnvbs50ci9lbi9tawrkbgutzwfzdc9kzwf0ac10b2xslxnvyxjzlxrvlw92zxitmtutntawlwfzlwlzcmflbgktyxr0ywnrcy1vbi1nyxphlxn0cmlwlwnvbnrpbnvllzmwnziwnddsaqa?oc=5&hl=en-us&gl=us&ceid=us:en\"}, {\"date\": \"2023-12-03T00:00:00\", \"toll\": 15900, \"publisher\": \"anadolu agency | english\", \"title\": \"gaza death toll from israeli attacks nears 15900 - anadolu agency | english\", \"origin\": \"https://news.google.com/rss/articles/cbmixmh0dhbzoi8vd3d3lmfhlmnvbs50ci9lbi9tawrkbgutzwfzdc9nyxphlwrlyxrolxrvbgwtznjvbs1pc3jhzwxplwf0dgfja3mtbmvhcnmtmtutotawlzmwnzi4mzfsaqa?oc=5&hl=en-us&gl=us&ceid=us:en\"}, {\"date\": \"2023-12-04T00:00:00\", \"toll\": 16248, \"publisher\": \"anadolu agency | english\", \"title\": \"gaza's death toll from israeli attacks mounts to 16248 including 7112 children - anadolu agency | english\", \"origin\": \"https://news.google.com/rss/articles/cbmifwh0dhbzoi8vd3d3lmfhlmnvbs50ci9lbi9tawrkbgutzwfzdc9nyxphlxmtzgvhdggtdg9sbc1mcm9tlwlzcmflbgktyxr0ywnrcy1tb3vudhmtdg8tmtytmjq4lwluy2x1zgluzy03ltexmi1jaglszhjlbi8zmdc0mdk00gea?oc=5&hl=en-us&gl=us&ceid=us:en\"}, {\"date\": \"2023-12-08T00:00:00\", \"toll\": 17700, \"publisher\": \"the associated press\", \"title\": \"live updates | gaza death toll tops 17700 and yemen rebels threaten ship traffic to israel - the associated press\", \"origin\": \"https://apnews.com/article/israel-hamas-war-live-updates-12-09-2023-e06fcf11a1e2fb864909418eab127116\"}, {\"date\": \"2023-12-08T00:00:00\", \"toll\": 17700, \"publisher\": \"al jazeera english\", \"title\": \"israel-hamas war updates: gaza death toll surpasses 17700 | israel-palestine conflict news - al jazeera english\", \"origin\": \"https://www.aljazeera.com/news/liveblog/2023/12/9/israel-hamas-war-live-us-veto-of-un-ceasefire-effort-draws-condemnation\"}, {\"date\": \"2023-12-09T00:00:00\", \"toll\": 17700, \"publisher\": \"abc news\", \"title\": \"palestinian death toll in gaza surpasses 17700 as world reacts to us rejecting ceasefire at un - abc news\", \"origin\": \"https://www.abc.net.au/news/2023-12-10/israel-gaza-war-palestinian-deaths-17700-un-veto-ceasefire/103210938\"}, {\"date\": \"2023-12-11T00:00:00\", \"toll\": 18400, \"publisher\": \"anadolu agency | english\", \"title\": \"gaza death toll from israeli attacks surpasses 18400 - anadolu agency | english\", \"origin\": \"https://news.google.com/rss/articles/cbmiymh0dhbzoi8vd3d3lmfhlmnvbs50ci9lbi9tawrkbgutzwfzdc9nyxphlwrlyxrolxrvbgwtznjvbs1pc3jhzwxplwf0dgfja3mtc3vycgfzc2vzlte4ltqwmc8zmdgwnjm40gea?oc=5&hl=en-us&gl=us&ceid=us:en\"}, {\"date\": \"2023-12-12T00:00:00\", \"toll\": 18600, \"publisher\": \"anadolu agency | english\", \"title\": \"gaza death toll tops 18600 as israeli attacks continue - anadolu agency | english\", \"origin\": \"https://news.google.com/rss/articles/cbmizgh0dhbzoi8vd3d3lmfhlmnvbs50ci9lbi9tawrkbgutzwfzdc9nyxphlwrlyxrolxrvbgwtdg9wcy0xoc02mdatyxmtaxnyywvsas1hdhrhy2tzlwnvbnrpbnvllzmwode1njbsaqa?oc=5&hl=en-us&gl=us&ceid=us:en\"}, {\"date\": \"2023-12-13T00:00:00\", \"toll\": 18800, \"publisher\": \"anadolu agency | english\", \"title\": \"gaza death toll from israeli attacks nears 18800 - anadolu agency | english\", \"origin\": \"https://news.google.com/rss/articles/cbmixmh0dhbzoi8vd3d3lmfhlmnvbs50ci9lbi9tawrkbgutzwfzdc9nyxphlwrlyxrolxrvbgwtznjvbs1pc3jhzwxplwf0dgfja3mtbmvhcnmtmtgtodawlzmwodi2odfsaqa?oc=5&hl=en-us&gl=us&ceid=us:en\"}, {\"date\": \"2023-12-14T00:00:00\", \"toll\": 18800, \"publisher\": \"anadolu agency | english\", \"title\": \"death toll from ongoing israeli onslaught on gaza rises to 18800 - anadolu agency | english\", \"origin\": \"https://news.google.com/rss/articles/cbmibmh0dhbzoi8vd3d3lmfhlmnvbs50ci9lbi9tawrkbgutzwfzdc9kzwf0ac10b2xslwzyb20tb25nb2luzy1pc3jhzwxplw9uc2xhdwdodc1vbi1nyxphlxjpc2vzlxrvlte4ltgwmc8zmdgzotyy0gea?oc=5&hl=en-us&gl=us&ceid=us:en\"}, {\"date\": \"2023-12-17T00:00:00\", \"toll\": 20000, \"publisher\": \"nbc news\", \"title\": \"pressure mounts to scale back war as gaza death toll nears 20000 - nbc news\", \"origin\": \"https://www.nbcnews.com/news/world/live-blog/israel-hamas-war-live-updates-gaza-death-toll-pressure-lloyd-austin-rcna130202\"}, {\"date\": \"2023-12-17T00:00:00\", \"toll\": 19400, \"publisher\": \"anadolu agency | english\", \"title\": \"gaza death toll surpasses 19400 amid ongoing israeli attacks - anadolu agency | english\", \"origin\": \"https://news.google.com/rss/articles/cbmiamh0dhbzoi8vd3d3lmfhlmnvbs50ci9lbi9tawrkbgutzwfzdc9nyxphlwrlyxrolxrvbgwtc3vycgfzc2vzlte5ltqwmc1hbwlklw9uz29pbmctaxnyywvsas1hdhrhy2tzlzmwodyxothsaqa?oc=5&hl=en-us&gl=us&ceid=us:en\"}, {\"date\": \"2023-12-18T00:00:00\", \"toll\": 20000, \"publisher\": \"the guardian\", \"title\": \"palestinian death toll in gaza nears 20000 with nearly 2 million people displaced - the guardian\", \"origin\": \"https://www.theguardian.com/world/2023/dec/19/palestinian-casualties-in-gaza-near-20000-with-nearly-2m-people-displaced\"}, {\"date\": \"2023-12-19T00:00:00\", \"toll\": 20000, \"publisher\": \"al jazeera english\", \"title\": \"israel-hamas war updates: death toll in gaza hits 20000 as fighting rages - al jazeera english\", \"origin\": \"https://www.aljazeera.com/news/liveblog/2023/12/20/israel-hamas-war-live-israel-kills-around-100-palestinians-in-one-day\"}, {\"date\": \"2023-12-19T00:00:00\", \"toll\": 20000, \"publisher\": \"al jazeera english\", \"title\": \"gaza death toll surpasses 20000 as un security council delays vote on aid - al jazeera english\", \"origin\": \"https://www.aljazeera.com/news/2023/12/20/gaza-death-toll-surpasses-20000-as-un-security-council-delays-vote-on-aid\"}, {\"date\": \"2023-12-21T00:00:00\", \"toll\": 20000, \"publisher\": \"pbs newshour\", \"title\": \"as israel expands ground war against hamas gaza death toll exceeds 20000 - pbs newshour\", \"origin\": \"https://www.pbs.org/newshour/world/as-israel-expands-ground-war-against-hamas-gaza-death-toll-exceeds-20000\"}, {\"date\": \"2023-12-21T00:00:00\", \"toll\": 20000, \"publisher\": \"the associated press\", \"title\": \"israel-hamas war: gaza death toll exceeds 20000 - the associated press\", \"origin\": \"https://apnews.com/article/israel-hamas-war-news-12-22-2023-7453c6f92d74eb1e12e506489031b91b\"}, {\"date\": \"2023-12-21T00:00:00\", \"toll\": 20000, \"publisher\": \"cbs news\", \"title\": \"palestinian death toll tops 20000 in israel-hamas war gaza officials say - cbs news\", \"origin\": \"https://www.cbsnews.com/news/israel-hamas-war-gaza-palestinian-death-toll-20000/\"}, {\"date\": \"2023-12-21T00:00:00\", \"toll\": 20000, \"publisher\": \"financial times\", \"title\": \"gaza death toll tops 20000 as un drops call to end fighting - financial times\", \"origin\": \"https://www.ft.com/content/488f70b7-d6cc-458d-b90e-f89cdfd65ec2\"}, {\"date\": \"2023-12-24T00:00:00\", \"toll\": 106, \"publisher\": \"pbs newshour\", \"title\": \"death toll from israeli airstrike in central gaza rises to 106 palestinian officials say - pbs newshour\", \"origin\": \"https://www.pbs.org/newshour/world/death-toll-from-israeli-airstrike-in-central-gaza-rises-to-106-palestinian-officials-say\"}, {\"date\": \"2023-12-24T00:00:00\", \"toll\": 20700, \"publisher\": \"anadolu agency | english\", \"title\": \"gaza death toll nears 20700 amid continuing israeli onslaught - anadolu agency | english\", \"origin\": \"https://news.google.com/rss/articles/cbmia2h0dhbzoi8vd3d3lmfhlmnvbs50ci9lbi9tawrkbgutzwfzdc9nyxphlwrlyxrolxrvbgwtbmvhcnmtmjatnzawlwftawqty29udgludwluzy1pc3jhzwxplw9uc2xhdwdodc8zmdkymtu50gea?oc=5&hl=en-us&gl=us&ceid=us:en\"}, {\"date\": \"2023-12-25T00:00:00\", \"toll\": 21000, \"publisher\": \"al jazeera english\", \"title\": \"israel-hamas war updates: death toll nears 21000 in gaza | israel-palestine conflict news - al jazeera english\", \"origin\": \"https://www.aljazeera.com/news/liveblog/2023/12/26/israel-hamas-war-live-no-respite-for-gaza-as-israeli-attacks-continue\"}, {\"date\": \"2023-12-31T00:00:00\", \"toll\": 21978, \"publisher\": \"anadolu agency | english\", \"title\": \"death toll in gaza from ongoing israeli war surges to 21978 - anadolu agency | english\", \"origin\": \"https://news.google.com/rss/articles/cbmiawh0dhbzoi8vd3d3lmfhlmnvbs50ci9lbi9tawrkbgutzwfzdc9kzwf0ac10b2xslwlulwdhemetznjvbs1vbmdvaw5nlwlzcmflbgktd2fylxn1cmdlcy10by0yms05nzgvmza5nzu3odibaa?oc=5&hl=en-us&gl=us&ceid=us:en\"}, {\"date\": \"2024-01-01T00:00:00\", \"toll\": 22000, \"publisher\": \"al jazeera english\", \"title\": \"israel maintains onslaught as gaza death toll tops 22000 - al jazeera english\", \"origin\": \"https://www.aljazeera.com/news/2024/1/2/israeli-bombardment-ongoing-as-death-toll-surpasses-22000\"}, {\"date\": \"2024-01-01T00:00:00\", \"toll\": 22000, \"publisher\": \"the guardian\", \"title\": \"gaza death toll passes 22000 as israel steps up war against hamas - the guardian\", \"origin\": \"https://www.theguardian.com/world/2024/jan/02/gaza-death-toll-passes-22000-as-israel-steps-up-war-against-hamas\"}, {\"date\": \"2024-01-03T00:00:00\", \"toll\": 22400, \"publisher\": \"anadolu agency | english\", \"title\": \"gaza death toll surpasses 22400 from israeli onslaught - anadolu agency | english\", \"origin\": \"https://news.google.com/rss/articles/cbmizgh0dhbzoi8vd3d3lmfhlmnvbs50ci9lbi9tawrkbgutzwfzdc9nyxphlwrlyxrolxrvbgwtc3vycgfzc2vzltiyltqwmc1mcm9tlwlzcmflbgktb25zbgf1z2h0lzmxmda0ndpsaqa?oc=5&hl=en-us&gl=us&ceid=us:en\"}, {\"date\": \"2024-01-06T00:00:00\", \"toll\": 109, \"publisher\": \"anadolu agency | english\", \"title\": \"2 more journalists killed in gaza pushing up death toll since oct. 7 to 109 - anadolu agency | english\", \"origin\": \"https://news.google.com/rss/articles/cbmid2h0dhbzoi8vd3d3lmfhlmnvbs50ci9lbi9tawrkbgutzwfzdc8ylw1vcmutam91cm5hbglzdhmta2lsbgvklwlulwdhemetchvzagluzy11cc1kzwf0ac10b2xslxnpbmnllw9jdc03lxrvltewos8zmtaymzy20gea?oc=5&hl=en-us&gl=us&ceid=us:en\"}, {\"date\": \"2024-01-07T00:00:00\", \"toll\": 20000, \"publisher\": \"the new york times\", \"title\": \"gaza death toll nears 20000 during israel-hamas war - the new york times\", \"origin\": \"https://www.nytimes.com/2023/12/21/world/middleeast/gaza-death-toll-palestinians.html\"}, {\"date\": \"2024-01-07T00:00:00\", \"toll\": 23000, \"publisher\": \"anadolu agency | english\", \"title\": \"gaza death toll from israeli onslaught exceeds 23000 - anadolu agency | english\", \"origin\": \"https://news.google.com/rss/articles/cbmiymh0dhbzoi8vd3d3lmfhlmnvbs50ci9lbi9tawrkbgutzwfzdc9nyxphlwrlyxrolxrvbgwtznjvbs1pc3jhzwxplw9uc2xhdwdodc1legnlzwrzltizltawmc8zmtazmzm30gea?oc=5&hl=en-us&gl=us&ceid=us:en\"}, {\"date\": \"2024-01-08T00:00:00\", \"toll\": 23210, \"publisher\": \"anadolu agency | english\", \"title\": \"death toll in israeli attacks on gaza rises to 23210 - anadolu agency | english\", \"origin\": \"https://news.google.com/rss/articles/cbmiymh0dhbzoi8vd3d3lmfhlmnvbs50ci9lbi9tawrkbgutzwfzdc9kzwf0ac10b2xslwlulwlzcmflbgktyxr0ywnrcy1vbi1nyxphlxjpc2vzlxrvltizltixmc8zmtazotk40gea?oc=5&hl=en-us&gl=us&ceid=us:en\"}, {\"date\": \"2024-01-11T00:00:00\", \"toll\": 23708, \"publisher\": \"anadolu agency | english\", \"title\": \"death toll from israeli attacks in gaza since oct. 7 rises to 23708 - anadolu agency | english\", \"origin\": \"https://news.google.com/rss/articles/cbmicgh0dhbzoi8vd3d3lmfhlmnvbs50ci9lbi9tawrkbgutzwfzdc9kzwf0ac10b2xslwzyb20taxnyywvsas1hdhrhy2tzlwlulwdhemetc2luy2utb2n0ltctcmlzzxmtdg8tmjmtnza4lzmxmdcymjnsaqa?oc=5&hl=en-us&gl=us&ceid=us:en\"}, {\"date\": \"2024-01-13T00:00:00\", \"toll\": 24000, \"publisher\": \"al jazeera english\", \"title\": \"israel vows not to \\u2018stop\\u2019 as gaza death toll nears 24000 on day 100 of war - al jazeera english\", \"origin\": \"https://www.aljazeera.com/news/2024/1/14/israel-vows-not-to-stop-as-gaza-death-toll-nears-24000-on-day-100-of-war\"}, {\"date\": \"2024-01-14T00:00:00\", \"toll\": 24000, \"publisher\": \"the associated press\", \"title\": \"live updates | gaza death toll tops 24000 as un agencies call urgently for more aid - the associated press\", \"origin\": \"https://apnews.com/article/israel-hamas-war-live-updates-01-15-2024-966bd5a9375e7439dd3de5fc113a7e7d\"}, {\"date\": \"2024-01-14T00:00:00\", \"toll\": 24100, \"publisher\": \"anadolu agency | english\", \"title\": \"death toll from israeli attacks on gaza since oct. 7 rises to 24100 - anadolu agency | english\", \"origin\": \"https://news.google.com/rss/articles/cbmicgh0dhbzoi8vd3d3lmfhlmnvbs50ci9lbi9tawrkbgutzwfzdc9kzwf0ac10b2xslwzyb20taxnyywvsas1hdhrhy2tzlw9ulwdhemetc2luy2utb2n0ltctcmlzzxmtdg8tmjqtmtawlzmxmdkwotjsaqa?oc=5&hl=en-us&gl=us&ceid=us:en\"}, {\"date\": \"2024-01-16T00:00:00\", \"toll\": 24448, \"publisher\": \"anadolu agency | english\", \"title\": \"gaza death toll from israeli attacks jumps to 24448 - anadolu agency | english\", \"origin\": \"https://news.google.com/rss/articles/cbmiywh0dhbzoi8vd3d3lmfhlmnvbs50ci9lbi9tawrkbgutzwfzdc9nyxphlwrlyxrolxrvbgwtznjvbs1pc3jhzwxplwf0dgfja3mtanvtchmtdg8tmjqtndq4lzmxmteymjhsaqa?oc=5&hl=en-us&gl=us&ceid=us:en\"}, {\"date\": \"2024-01-19T00:00:00\", \"toll\": 25000, \"publisher\": \"al jazeera english\", \"title\": \"israel\\u2019s war on gaza updates: death toll in besieged enclave nears 25000 | israel-palestine conflict news - al jazeera english\", \"origin\": \"https://www.aljazeera.com/news/liveblog/2024/1/20/israels-war-on-gaza-live-israel-denied-70-of-aid-to-north-gaza-says-un\"}, {\"date\": \"2024-01-20T00:00:00\", \"toll\": 25000, \"publisher\": \"the associated press\", \"title\": \"israel-hamas war: palestinian death toll soars past 25000 in gaza - the associated press\", \"origin\": \"https://apnews.com/article/israel-hamas-war-news-01-21-2024-02caafa092668ecc7ff122229c166807\"}, {\"date\": \"2024-01-20T00:00:00\", \"toll\": 25000, \"publisher\": \"cbs news\", \"title\": \"gaza's death toll surpasses 25000 health ministry says as ongoing hamas war divides israelis - cbs news\", \"origin\": \"https://www.cbsnews.com/news/gaza-death-toll-25000-palestinians-israel-hamas-war-ongoing-divide/\"}, {\"date\": \"2024-01-20T00:00:00\", \"toll\": 25000, \"publisher\": \"al jazeera english\", \"title\": \"gaza death toll surpasses 25000 as israel escalates assault - al jazeera english\", \"origin\": \"https://www.aljazeera.com/news/2024/1/21/gaza-death-toll-surpasses-25000-as-israel-escalates-assault\"}, {\"date\": \"2024-01-20T00:00:00\", \"toll\": 25000, \"publisher\": \"politico\", \"title\": \"palestinian death toll in gaza surpasses 25000 - politico - politico\", \"origin\": \"https://www.politico.com/news/2024/01/21/palestinian-death-toll-in-gaza-surpasses-25-000-00136797\"}, {\"date\": \"2024-01-20T00:00:00\", \"toll\": 25000, \"publisher\": \"voice of america - voa news\", \"title\": \"palestinian death toll in gaza passes 25000 health ministry says - voice of america - voa news\", \"origin\": \"https://www.voanews.com/a/palestinian-death-toll-in-gaza-passes-25-000-health-ministry-says/7448829.html\"}, {\"date\": \"2024-01-20T00:00:00\", \"toll\": 25000, \"publisher\": \"the new york times\", \"title\": \"u.n. chief says gaza death toll is 'unacceptable' as it passes 25000 - the new york times\", \"origin\": \"https://www.nytimes.com/2024/01/21/world/middleeast/gaza-death-toll-israel-war.html\"}, {\"date\": \"2024-01-20T00:00:00\", \"toll\": 25000, \"publisher\": \"france 24 english\", \"title\": \"heavy bombardment in khan younis as gaza death toll tops 25000 - france 24 english\", \"origin\": \"https://www.france24.com/en/middle-east/20240121-%f0%9f%94%b4-live-fighting-rages-across-gaza-as-israeli-troops-push-into-khan-younis\"}, {\"date\": \"2024-01-20T00:00:00\", \"toll\": 25000, \"publisher\": \"whyy\", \"title\": \"palestinian death toll in gaza surpasses 25000 while israel announces the death of another hostage - whyy\", \"origin\": \"https://whyy.org/articles/israel-hamas-war-gaza-palestinian-death-toll-surpasses-25000/\"}, {\"date\": \"2024-01-20T00:00:00\", \"toll\": 25000, \"publisher\": \"abc news\", \"title\": \"palestinian death toll in gaza surpasses 25000 with no end in sight to israel-gaza war - abc news\", \"origin\": \"https://news.google.com/rss/articles/cbmibwh0dhbzoi8vd3d3lmfiyy5uzxquyxuvbmv3cy8ymdi0ltaxltiyl2dhemetc3ryaxatzgvhdggtdg9sbc0yntawmc1ozwfsdggtbwluaxn0cnktaxnyywvslxbhbgvzdgluzs8xmdmznzm3odlsashodhrwczovl2ftcc5hymmubmv0lmf1l2fydgljbguvmtazmzcznzgy?oc=5&hl=en-us&gl=us&ceid=us:en\"}, {\"date\": \"2024-01-21T00:00:00\", \"toll\": 25000, \"publisher\": \"abc news\", \"title\": \"palestinian death toll in gaza surpasses 25000 with no end in sight to israel-gaza war - abc news\", \"origin\": \"https://www.abc.net.au/news/2024-01-22/gaza-strip-death-toll-25000-health-ministry-israel-palestine/103373782\"}, {\"date\": \"2024-01-22T00:00:00\", \"toll\": 24, \"publisher\": \"reuters\", \"title\": \"gaza: israel loses 24 soldiers its highest one-day death toll - reuters\", \"origin\": \"https://www.reuters.com/world/middle-east/israeli-military-says-21-soldiers-killed-gaza-fighting-2024-01-23/\"}, {\"date\": \"2024-01-23T00:00:00\", \"toll\": 25700, \"publisher\": \"anadolu agency | english\", \"title\": \"death toll in israeli attacks on gaza rises to 25700 - anadolu agency | english\", \"origin\": \"https://news.google.com/rss/articles/cbmiymh0dhbzoi8vd3d3lmfhlmnvbs50ci9lbi9tawrkbgutzwfzdc9kzwf0ac10b2xslwlulwlzcmflbgktyxr0ywnrcy1vbi1nyxphlxjpc2vzlxrvlti1ltcwmc8zmte3mjyw0gea?oc=5&hl=en-us&gl=us&ceid=us:en\"}, {\"date\": \"2024-01-24T00:00:00\", \"toll\": 26000, \"publisher\": \"anadolu agency | english\", \"title\": \"palestinian death toll in israeli attacks on gaza nears 26000 - anadolu agency | english\", \"origin\": \"https://news.google.com/rss/articles/cbmia2h0dhbzoi8vd3d3lmfhlmnvbs50ci9lbi9tawrkbgutzwfzdc9wywxlc3rpbmlhbi1kzwf0ac10b2xslwlulwlzcmflbgktyxr0ywnrcy1vbi1nyxphlw5lyxjzlti2ltawmc8zmte5mday0gea?oc=5&hl=en-us&gl=us&ceid=us:en\"}, {\"date\": \"2024-01-25T00:00:00\", \"toll\": 26000, \"publisher\": \"the associated press\", \"title\": \"live updates | un court keeps genocide case against israel alive as gaza death toll surpasses 26000 - the associated press\", \"origin\": \"https://apnews.com/article/israel-hamas-war-live-updates-1-26-2024-49a168140cbca3778095e8fb437aba37\"}, {\"date\": \"2024-01-25T00:00:00\", \"toll\": 26000, \"publisher\": \"voice of america - voa news\", \"title\": \"gaza death toll climbs above 26000 health ministry reports - voice of america - voa news\", \"origin\": \"https://www.voanews.com/a/gaza-death-toll-climbs-above-26-000-health-ministry-reports/7458258.html\"}, {\"date\": \"2024-01-25T00:00:00\", \"toll\": 26083, \"publisher\": \"anadolu agency | english\", \"title\": \"gaza death toll rises to 26083 as 183 more palestinians killed over last 24 hours: health ministry - anadolu agency | english\", \"origin\": \"https://news.google.com/rss/articles/cbmijwfodhrwczovl3d3dy5hys5jb20udhivzw4vbwlkzgxllwvhc3qvz2f6ys1kzwf0ac10b2xslxjpc2vzlxrvlti2lta4my1hcy0xodmtbw9yzs1wywxlc3rpbmlhbnmta2lsbgvklw92zxitbgfzdc0ync1ob3vycy1ozwfsdggtbwluaxn0cnkvmzexotmymdibaa?oc=5&hl=en-us&gl=us&ceid=us:en\"}, {\"date\": \"2024-01-26T00:00:00\", \"toll\": 26257, \"publisher\": \"anadolu agency | english\", \"title\": \"174 palestinians killed in gaza in last 24 hours death toll rises to 26257 - anadolu agency | english\", \"origin\": \"https://news.google.com/rss/articles/cbmiegh0dhbzoi8vd3d3lmfhlmnvbs50ci9lbi9tawrkbgutzwfzdc8xnzqtcgfszxn0aw5pyw5zlwtpbgxlzc1pbi1nyxphlwlulwxhc3qtmjqtag91cnmtzgvhdggtdg9sbc1yaxnlcy10by0yni0yntcvmzeymdu2onibaa?oc=5&hl=en-us&gl=us&ceid=us:en\"}, {\"date\": \"2024-01-26T00:00:00\", \"toll\": 26000, \"publisher\": \"the independent\", \"title\": \"live updates | gaza death toll surpasses 26000 as israel awaits a un court ruling on its offensive - the independent\", \"origin\": \"https://www.independent.co.uk/news/israel-ap-gaza-hamas-south-africa-b2485272.html\"}, {\"date\": \"2024-01-29T00:00:00\", \"toll\": 26751, \"publisher\": \"anadolu agency | english\", \"title\": \"gaza death toll from israeli attacks jumps to 26751 - anadolu agency | english\", \"origin\": \"https://news.google.com/rss/articles/cbmiywh0dhbzoi8vd3d3lmfhlmnvbs50ci9lbi9tawrkbgutzwfzdc9nyxphlwrlyxrolxrvbgwtznjvbs1pc3jhzwxplwf0dgfja3mtanvtchmtdg8tmjytnzuxlzmxmji5nddsaqa?oc=5&hl=en-us&gl=us&ceid=us:en\"}, {\"date\": \"2024-02-06T00:00:00\", \"toll\": 27700, \"publisher\": \"anadolu agency\", \"title\": \"gaza death toll from israeli attacks surpasses 27700 - anadolu agency\", \"origin\": \"https://news.google.com/rss/articles/cbmiymh0dhbzoi8vd3d3lmfhlmnvbs50ci9lbi9tawrkbgutzwfzdc9nyxphlwrlyxrolxrvbgwtznjvbs1pc3jhzwxplwf0dgfja3mtc3vycgfzc2vzlti3ltcwmc8zmtmwndq10gea?oc=5&hl=en-us&gl=us&ceid=us:en\"}, {\"date\": \"2024-02-09T00:00:00\", \"toll\": 67611, \"publisher\": \"reuters\", \"title\": \"gaza death toll climbs 28064 palestinians killed 67611 injured since oct. 7 health ministry says - reuters\", \"origin\": \"https://www.reuters.com/world/middle-east/gaza-death-toll-climbs-28064-palestinians-killed-67611-injured-since-oct-7-gaza-2024-02-10/\"}, {\"date\": \"2024-02-11T00:00:00\", \"toll\": 28340, \"publisher\": \"anadolu agency\", \"title\": \"164 palestinians killed in gaza in last 24 hours taking death toll to 28340 - anadolu agency\", \"origin\": \"https://news.google.com/rss/articles/cbmiewh0dhbzoi8vd3d3lmfhlmnvbs50ci9lbi9tawrkbgutzwfzdc8xnjqtcgfszxn0aw5pyw5zlwtpbgxlzc1pbi1nyxphlwlulwxhc3qtmjqtag91cnmtdgfraw5nlwrlyxrolxrvbgwtdg8tmjgtmzqwlzmxmzq4mddsaqa?oc=5&hl=en-us&gl=us&ceid=us:en\"}, {\"date\": \"2024-02-14T00:00:00\", \"toll\": 28663, \"publisher\": \"anadolu agency | english\", \"title\": \"palestinian death toll from israeli attacks in gaza reaches 28663 - anadolu agency | english\", \"origin\": \"https://news.google.com/rss/articles/cbmib2h0dhbzoi8vd3d3lmfhlmnvbs50ci9lbi9tawrkbgutzwfzdc9wywxlc3rpbmlhbi1kzwf0ac10b2xslwzyb20taxnyywvsas1hdhrhy2tzlwlulwdhemetcmvhy2hlcy0yoc02njmvmzezodq4onibaa?oc=5&hl=en-us&gl=us&ceid=us:en\"}, {\"date\": \"2024-02-15T00:00:00\", \"toll\": 28775, \"publisher\": \"anadolu agency | english\", \"title\": \"palestinian death toll in israeli attacks on gaza climbs to 28775 - anadolu agency | english\", \"origin\": \"https://news.google.com/rss/articles/cbmib2h0dhbzoi8vd3d3lmfhlmnvbs50ci9lbi9tawrkbgutzwfzdc9wywxlc3rpbmlhbi1kzwf0ac10b2xslwlulwlzcmflbgktyxr0ywnrcy1vbi1nyxphlwnsaw1icy10by0yoc03nzuvmzezotm5n9ibaa?oc=5&hl=en-us&gl=us&ceid=us:en\"}, {\"date\": \"2024-02-16T00:00:00\", \"toll\": 28858, \"publisher\": \"anadolu agency | english\", \"title\": \"83 palestinians killed in gaza in last 24 hours death toll climbs to 28858 - anadolu agency | english\", \"origin\": \"https://news.google.com/rss/articles/cbmiegh0dhbzoi8vd3d3lmfhlmnvbs50ci9lbi9tawrkbgutzwfzdc84my1wywxlc3rpbmlhbnmta2lsbgvklwlulwdhemetaw4tbgfzdc0ync1ob3vycy1kzwf0ac10b2xslwnsaw1icy10by0yoc04ntgvmze0mdm0mtibaa?oc=5&hl=en-us&gl=us&ceid=us:en\"}, {\"date\": \"2024-02-17T00:00:00\", \"toll\": 28985, \"publisher\": \"anadolu agency | english\", \"title\": \"127 palestinians killed in gaza in last 24 hours death toll climbs to 28985 - anadolu agency | english\", \"origin\": \"https://news.google.com/rss/articles/cbmiemh0dhbzoi8vd3d3lmfhlmnvbs50ci9lbi9tawrkbgutzwfzdc8xmjctcgfszxn0aw5pyw5zlwtpbgxlzc1pbi1nyxphlwlulwxhc3qtmjqtag91cnmtzgvhdggtdg9sbc1jbgltynmtdg8tmjgtotg1ls8zmtqxmdqy0gea?oc=5&hl=en-us&gl=us&ceid=us:en\"}, {\"date\": \"2024-02-18T00:00:00\", \"toll\": 69028, \"publisher\": \"anadolu agency | english\", \"title\": \"gaza death toll from israeli attacks rises to 29092 with 69028 others injured - anadolu agency | english\", \"origin\": \"https://news.google.com/rss/articles/cbmifgh0dhbzoi8vd3d3lmfhlmnvbs50ci9lbi9tawrkbgutzwfzdc9nyxphlwrlyxrolxrvbgwtznjvbs1pc3jhzwxplwf0dgfja3mtcmlzzxmtdg8tmjktmdkylxdpdggtnjktmdi4lw90agvycy1pbmp1cmvklzmxnde4mtlsaqa?oc=5&hl=en-us&gl=us&ceid=us:en\"}, {\"date\": \"2024-02-19T00:00:00\", \"toll\": 29195, \"publisher\": \"anadolu agency | english\", \"title\": \"death toll in gaza from israeli attacks climbs to 29195 - anadolu agency | english\", \"origin\": \"https://news.google.com/rss/articles/cbmizwh0dhbzoi8vd3d3lmfhlmnvbs50ci9lbi9tawrkbgutzwfzdc9kzwf0ac10b2xslwlulwdhemetznjvbs1pc3jhzwxplwf0dgfja3mty2xpbwjzlxrvlti5lte5ns8zmtqynze50gea?oc=5&hl=en-us&gl=us&ceid=us:en\"}, {\"date\": \"2024-02-20T00:00:00\", \"toll\": 29313, \"publisher\": \"reuters\", \"title\": \"gaza death toll rises to 29313 rafah residents killed in strike - reuters\", \"origin\": \"https://www.reuters.com/world/middle-east/gaza-death-toll-rises-29313-rafah-residents-killed-strike-2024-02-21/\"}, {\"date\": \"2024-02-21T00:00:00\", \"toll\": 30000, \"publisher\": \"the new york times\", \"title\": \"as gaza death toll nears 30000 israel\\u2019s isolation grows - the new york times\", \"origin\": \"https://www.nytimes.com/2024/02/22/world/middleeast/gaza-death-toll-israel.html\"}, {\"date\": \"2024-02-21T00:00:00\", \"toll\": 29400, \"publisher\": \"anadolu agency | english\", \"title\": \"gaza death toll from israeli attacks surpasses 29400 - anadolu agency | english\", \"origin\": \"https://news.google.com/rss/articles/cbmiymh0dhbzoi8vd3d3lmfhlmnvbs50ci9lbi9tawrkbgutzwfzdc9nyxphlwrlyxrolxrvbgwtznjvbs1pc3jhzwxplwf0dgfja3mtc3vycgfzc2vzlti5ltqwmc8zmtq0nzcz0gea?oc=5&hl=en-us&gl=us&ceid=us:en\"}, {\"date\": \"2024-02-23T00:00:00\", \"toll\": 6, \"publisher\": \"anadolu agency | english\", \"title\": \"children women death toll in israel war on gaza 6 times higher than russia-ukraine war - anadolu agency | english\", \"origin\": \"https://news.google.com/rss/articles/cbmigwfodhrwczovl3d3dy5hys5jb20udhivzw4vbwlkzgxllwvhc3qvy2hpbgryzw4td29tzw4tzgvhdggtdg9sbc1pbi1pc3jhzwwtd2fylw9ulwdhemetni10aw1lcy1oawdozxitdghhbi1ydxnzawetdwtyywluzs13yxivmze0njm5onibaa?oc=5&hl=en-us&gl=us&ceid=us:en\"}, {\"date\": \"2024-02-23T00:00:00\", \"toll\": 29600, \"publisher\": \"anadolu agency | english\", \"title\": \"gaza death toll tops 29600 as 92 more palestinians killed over past day - anadolu agency | english\", \"origin\": \"https://news.google.com/rss/articles/cbmib2h0dhbzoi8vd3d3lmfhlmnvbs50ci9lbi93b3jszc9nyxphlwrlyxrolxrvbgwtdg9wcy0yos02mdatyxmtotitbw9yzs1wywxlc3rpbmlhbnmta2lsbgvklw92zxitcgfzdc1kyxkvmze0njuxonibaa?oc=5&hl=en-us&gl=us&ceid=us:en\"}, {\"date\": \"2024-02-24T00:00:00\", \"toll\": 30000, \"publisher\": \"the guardian\", \"title\": \"gaza death toll set to pass 30000 as israel prepares assault on rafah - the guardian\", \"origin\": \"https://www.theguardian.com/world/2024/feb/25/gaza-death-toll-set-to-pass-30000-as-israel-prepares-assault-on-rafah\"}, {\"date\": \"2024-02-24T00:00:00\", \"toll\": 29692, \"publisher\": \"anadolu agency | english\", \"title\": \"gaza death toll rises to 29692 as 86 more palestinians killed over last 24 hours - anadolu agency | english\", \"origin\": \"https://news.google.com/rss/articles/cbmifmh0dhbzoi8vd3d3lmfhlmnvbs50ci9lbi9tawrkbgutzwfzdc9nyxphlwrlyxrolxrvbgwtcmlzzxmtdg8tmjktnjkylwfzltg2lw1vcmutcgfszxn0aw5pyw5zlwtpbgxlzc1vdmvylwxhc3qtmjqtag91cnmvmze0nze5onibaa?oc=5&hl=en-us&gl=us&ceid=us:en\"}, {\"date\": \"2024-02-25T00:00:00\", \"toll\": 29782, \"publisher\": \"anadolu agency | english\", \"title\": \"death toll of palestinians in israeli attacks on gaza jumps to 29782 - anadolu agency | english\", \"origin\": \"https://news.google.com/rss/articles/cbmicmh0dhbzoi8vd3d3lmfhlmnvbs50ci9lbi9tawrkbgutzwfzdc9kzwf0ac10b2xslw9mlxbhbgvzdgluawfucy1pbi1pc3jhzwxplwf0dgfja3mtb24tz2f6ys1qdw1wcy10by0yos03odivmze0nzk0ntibaa?oc=5&hl=en-us&gl=us&ceid=us:en\"}, {\"date\": \"2024-02-28T00:00:00\", \"toll\": 30000, \"publisher\": \"npr\", \"title\": \"gaza death toll surpasses 30000 but it's an incomplete count - npr\", \"origin\": \"https://www.npr.org/2024/02/29/1234159514/gaza-death-toll-30000-palestinians-israel-hamas-war\"}, {\"date\": \"2024-02-28T00:00:00\", \"toll\": 30000, \"publisher\": \"reuters\", \"title\": \"more than 100 killed while seeking aid in gaza overall death toll passes 30000 - reuters\", \"origin\": \"https://www.reuters.com/world/middle-east/dozens-killed-gaza-aid-queue-overall-death-toll-passes-30000-2024-02-29/\"}, {\"date\": \"2024-02-28T00:00:00\", \"toll\": 30000, \"publisher\": \"nbc news\", \"title\": \"as gaza death toll tops 30000 is israel on the path to victory or quagmire? - nbc news\", \"origin\": \"https://www.nbcnews.com/news/world/gaza-death-toll-30000-israel-hamas-victory-or-quagmire-rcna140951\"}, {\"date\": \"2024-02-28T00:00:00\", \"toll\": 30000, \"publisher\": \"the associated press\", \"title\": \"the latest | gaza death toll tops 30000 as over 100 killed in aid convoy violence - the associated press\", \"origin\": \"https://apnews.com/article/israel-hamas-war-latest-02-29-2024-ae3d114b28cafd3b1a806bfaa9f83cab\"}, {\"date\": \"2024-02-28T00:00:00\", \"toll\": 30000, \"publisher\": \"the new york times\", \"title\": \"death toll in gaza passes 30000 - the new york times\", \"origin\": \"https://www.nytimes.com/2024/02/29/world/middleeast/gaza-death-toll-war.html\"}, {\"date\": \"2024-02-28T00:00:00\", \"toll\": 30000, \"publisher\": \"al jazeera english\", \"title\": \"'life draining out of gaza': un on aid shooting as death toll hits 30000 - al jazeera english\", \"origin\": \"https://www.aljazeera.com/news/liveblog/2024/2/29/israels-war-on-gaza-live-mass-killing-of-children-in-slow-motion-ngo\"}, {\"date\": \"2024-02-28T00:00:00\", \"toll\": 30000, \"publisher\": \"al jazeera english\", \"title\": \"gaza death toll surpasses 30000 with no let-up in israeli bombardment - al jazeera english\", \"origin\": \"https://www.aljazeera.com/news/2024/2/29/gaza-death-toll-surpasses-30000-with-no-let-up-in-israeli-bombardment\"}, {\"date\": \"2024-02-28T00:00:00\", \"toll\": 30000, \"publisher\": \"nbc news\", \"title\": \"israel-hamas gaza war death toll reaches 30000 palestinians - nbc news\", \"origin\": \"https://www.nbcnews.com/news/world/israel-hamas-gaza-war-death-toll-reaches-30000-palestinians-rcna140843\"}, {\"date\": \"2024-02-28T00:00:00\", \"toll\": 30000, \"publisher\": \"cbs news\", \"title\": \"israel accused of opening fire on gaza civilians waiting for food as hamas says war death toll over 30000 people - cbs news\", \"origin\": \"https://www.cbsnews.com/news/israel-gaza-hamas-war-humanitarian-aid-death-toll-over-30000/\"}, {\"date\": \"2024-02-28T00:00:00\", \"toll\": 30000, \"publisher\": \"the hindu\", \"title\": \"gaza death toll nears 30000 as un warns of \\u2018imminent\\u2019 famine on strip - the hindu\", \"origin\": \"https://www.thehindu.com/news/international/gaza-death-toll-nears-30000-as-un-warns-of-imminent-famine-on-strip/article67896975.ece\"}, {\"date\": \"2024-02-28T00:00:00\", \"toll\": 100, \"publisher\": \"cbc news\", \"title\": \"gaza officials say more than 100 killed waiting for aid. israel disputes details and death toll - cbc news\", \"origin\": \"https://www.cbc.ca/news/world/israel-hamas-war-day-146-1.7129166\"}, {\"date\": \"2024-03-01T00:00:00\", \"toll\": 30320, \"publisher\": \"anadolu agency | english\", \"title\": \"death toll climbs to 30320 as 92 more palestinians killed in gaza - anadolu agency | english\", \"origin\": \"https://news.google.com/rss/articles/cbmib2h0dhbzoi8vd3d3lmfhlmnvbs50ci9lbi9tawrkbgutzwfzdc9kzwf0ac10b2xslwnsaw1icy10by0zmc0zmjatyxmtotitbw9yzs1wywxlc3rpbmlhbnmta2lsbgvklwlulwdhemevmze1mze1mdibaa?oc=5&hl=en-us&gl=us&ceid=us:en\"}, {\"date\": \"2024-03-02T00:00:00\", \"toll\": 30410, \"publisher\": \"anadolu agency | english\", \"title\": \"90 palestinians killed in gaza in last 24 hours death toll climbs to 30410 - anadolu agency | english\", \"origin\": \"https://news.google.com/rss/articles/cbmiegh0dhbzoi8vd3d3lmfhlmnvbs50ci9lbi9tawrkbgutzwfzdc85mc1wywxlc3rpbmlhbnmta2lsbgvklwlulwdhemetaw4tbgfzdc0ync1ob3vycy1kzwf0ac10b2xslwnsaw1icy10by0zmc00mtavmze1mzc2mdibaa?oc=5&hl=en-us&gl=us&ceid=us:en\"}, {\"date\": \"2024-03-03T00:00:00\", \"toll\": 30534, \"publisher\": \"anadolu agency | english\", \"title\": \"gaza death toll rises to 30534 as israeli attacks kill 124 more palestinians over past day - anadolu agency | english\", \"origin\": \"https://news.google.com/rss/articles/cbmiiafodhrwczovl3d3dy5hys5jb20udhivzw4vbwlkzgxllwvhc3qvz2f6ys1kzwf0ac10b2xslxjpc2vzlxrvltmwltuznc1hcy1pc3jhzwxplwf0dgfja3mta2lsbc0xmjqtbw9yzs1wywxlc3rpbmlhbnmtb3zlci1wyxn0lwrhes8zmtu0ntmy0gea?oc=5&hl=en-us&gl=us&ceid=us:en\"}, {\"date\": \"2024-03-06T00:00:00\", \"toll\": 30800, \"publisher\": \"anadolu agency | english\", \"title\": \"palestinian death toll reaches 30800 as israel continues its offensive in gaza - anadolu agency | english\", \"origin\": \"https://news.google.com/rss/articles/cbmifgh0dhbzoi8vd3d3lmfhlmnvbs50ci9lbi9tawrkbgutzwfzdc9wywxlc3rpbmlhbi1kzwf0ac10b2xslxjlywnozxmtmzatodawlwfzlwlzcmflbc1jb250aw51zxmtaxrzlw9mzmvuc2l2zs1pbi1nyxphlzmxntgwmddsaqa?oc=5&hl=en-us&gl=us&ceid=us:en\"}, {\"date\": \"2024-03-07T00:00:00\", \"toll\": 30878, \"publisher\": \"anadolu agency | english\", \"title\": \"78 more palestinians killed in gaza death toll climbs to 30878 - anadolu agency | english\", \"origin\": \"https://news.google.com/rss/articles/cbmibgh0dhbzoi8vd3d3lmfhlmnvbs50ci9lbi9tawrkbgutzwfzdc83oc1tb3jllxbhbgvzdgluawfucy1rawxszwqtaw4tz2f6ys1kzwf0ac10b2xslwnsaw1icy10by0zmc04nzgvmze1odg4n9ibaa?oc=5&hl=en-us&gl=us&ceid=us:en\"}, {\"date\": \"2024-03-08T00:00:00\", \"toll\": 30960, \"publisher\": \"anadolu agency | english\", \"title\": \"82 palestinians killed in gaza in last 24 hours death toll climbs to 30960 - anadolu agency | english\", \"origin\": \"https://news.google.com/rss/articles/cbmiegh0dhbzoi8vd3d3lmfhlmnvbs50ci9lbi9tawrkbgutzwfzdc84mi1wywxlc3rpbmlhbnmta2lsbgvklwlulwdhemetaw4tbgfzdc0ync1ob3vycy1kzwf0ac10b2xslwnsaw1icy10by0zmc05njavmze2mda0ndibaa?oc=5&hl=en-us&gl=us&ceid=us:en\"}, {\"date\": \"2024-03-09T00:00:00\", \"toll\": 31045, \"publisher\": \"anadolu agency | english\", \"title\": \"85 palestinians killed in gaza in last 24 hours death toll climbs to 31045 - anadolu agency | english\", \"origin\": \"https://news.google.com/rss/articles/cbmiegh0dhbzoi8vd3d3lmfhlmnvbs50ci9lbi9tawrkbgutzwfzdc84ns1wywxlc3rpbmlhbnmta2lsbgvklwlulwdhemetaw4tbgfzdc0ync1ob3vycy1kzwf0ac10b2xslwnsaw1icy10by0zms0wnduvmze2mdc0m9ibaa?oc=5&hl=en-us&gl=us&ceid=us:en\"}, {\"date\": \"2024-03-10T00:00:00\", \"toll\": 27, \"publisher\": \"anadolu agency | english\", \"title\": \"hunger kills 2 more babies in besieged gaza death toll rises to 27 - anadolu agency | english\", \"origin\": \"https://news.google.com/rss/articles/cbmib2h0dhbzoi8vd3d3lmfhlmnvbs50ci9lbi9tawrkbgutzwfzdc9odw5nzxita2lsbhmtmi1tb3jllwjhymllcy1pbi1izxnpzwdlzc1nyxphlwrlyxrolxrvbgwtcmlzzxmtdg8tmjcvmze2mtyxn9ibaa?oc=5&hl=en-us&gl=us&ceid=us:en\"}, {\"date\": \"2024-03-12T00:00:00\", \"toll\": 31300, \"publisher\": \"anadolu agency | english\", \"title\": \"gaza death toll from israeli attacks nears 31300 - anadolu agency | english\", \"origin\": \"https://news.google.com/rss/articles/cbmixmh0dhbzoi8vd3d3lmfhlmnvbs50ci9lbi9tawrkbgutzwfzdc9nyxphlwrlyxrolxrvbgwtznjvbs1pc3jhzwxplwf0dgfja3mtbmvhcnmtmzetmzawlzmxnjmzmjlsaqa?oc=5&hl=en-us&gl=us&ceid=us:en\"}, {\"date\": \"2024-03-13T00:00:00\", \"toll\": 31300, \"publisher\": \"anadolu agency | english\", \"title\": \"gaza death toll passes 31300 as israel maintains offensive - anadolu agency | english\", \"origin\": \"https://news.google.com/rss/articles/cbmiagh0dhbzoi8vd3d3lmfhlmnvbs50ci9lbi9tawrkbgutzwfzdc9nyxphlwrlyxrolxrvbgwtcgfzc2vzltmxltmwmc1hcy1pc3jhzwwtbwfpbnrhaw5zlw9mzmvuc2l2zs8zmty0mtg10gea?oc=5&hl=en-us&gl=us&ceid=us:en\"}, {\"date\": \"2024-03-14T00:00:00\", \"toll\": 31490, \"publisher\": \"anadolu agency | english\", \"title\": \"149 more palestinians killed in gaza death toll climbs to 31490 - anadolu agency | english\", \"origin\": \"https://news.google.com/rss/articles/cbmibwh0dhbzoi8vd3d3lmfhlmnvbs50ci9lbi9tawrkbgutzwfzdc8xndktbw9yzs1wywxlc3rpbmlhbnmta2lsbgvklwlulwdhemetzgvhdggtdg9sbc1jbgltynmtdg8tmzetndkwlzmxnju0oddsaqa?oc=5&hl=en-us&gl=us&ceid=us:en\"}, {\"date\": \"2024-03-15T00:00:00\", \"toll\": 31553, \"publisher\": \"anadolu agency | english\", \"title\": \"63 palestinians killed in gaza in last 24 hours death toll climbs to 31553 - anadolu agency | english\", \"origin\": \"https://news.google.com/rss/articles/cbmiegh0dhbzoi8vd3d3lmfhlmnvbs50ci9lbi9tawrkbgutzwfzdc82my1wywxlc3rpbmlhbnmta2lsbgvklwlulwdhemetaw4tbgfzdc0ync1ob3vycy1kzwf0ac10b2xslwnsaw1icy10by0zms01ntmvmze2njezmnibaa?oc=5&hl=en-us&gl=us&ceid=us:en\"}, {\"date\": \"2024-03-16T00:00:00\", \"toll\": 31645, \"publisher\": \"anadolu agency | english\", \"title\": \"92 palestinians killed in gaza in last 24 hours death toll climbs to 31645 - anadolu agency | english\", \"origin\": \"https://news.google.com/rss/articles/cbmiegh0dhbzoi8vd3d3lmfhlmnvbs50ci9lbi9tawrkbgutzwfzdc85mi1wywxlc3rpbmlhbnmta2lsbgvklwlulwdhemetaw4tbgfzdc0ync1ob3vycy1kzwf0ac10b2xslwnsaw1icy10by0zms02nduvmze2njyzmnibaa?oc=5&hl=en-us&gl=us&ceid=us:en\"}, {\"date\": \"2024-03-20T00:00:00\", \"toll\": 32000, \"publisher\": \"anadolu agency | english\", \"title\": \"gaza death toll on verge of 32000 as israeli attacks kill 65 more palestinians - anadolu agency | english\", \"origin\": \"https://news.google.com/rss/articles/cbmifgh0dhbzoi8vd3d3lmfhlmnvbs50ci9lbi9tawrkbgutzwfzdc9nyxphlwrlyxrolxrvbgwtb24tdmvyz2utb2ytmzitmdawlwfzlwlzcmflbgktyxr0ywnrcy1rawxslty1lw1vcmutcgfszxn0aw5pyw5zlzmxnza1mdhsaqa?oc=5&hl=en-us&gl=us&ceid=us:en\"}, {\"date\": \"2024-03-21T00:00:00\", \"toll\": 32000, \"publisher\": \"anadolu agency | english\", \"title\": \"gaza death toll surpasses 32000 as israeli attacks continue - anadolu agency | english\", \"origin\": \"https://news.google.com/rss/articles/cbmiawh0dhbzoi8vd3d3lmfhlmnvbs50ci9lbi9tawrkbgutzwfzdc9nyxphlwrlyxrolxrvbgwtc3vycgfzc2vzltmyltawmc1hcy1pc3jhzwxplwf0dgfja3mty29udgludwuvmze3mtk2odibaa?oc=5&hl=en-us&gl=us&ceid=us:en\"}, {\"date\": \"2024-03-22T00:00:00\", \"toll\": 32142, \"publisher\": \"anadolu agency | english\", \"title\": \"72 more palestinians killed in gaza death toll climbs to 32142 - anadolu agency | english\", \"origin\": \"https://news.google.com/rss/articles/cbmibgh0dhbzoi8vd3d3lmfhlmnvbs50ci9lbi9tawrkbgutzwfzdc83mi1tb3jllxbhbgvzdgluawfucy1rawxszwqtaw4tz2f6ys1kzwf0ac10b2xslwnsaw1icy10by0zmi0xndivmze3mjc4ntibaa?oc=5&hl=en-us&gl=us&ceid=us:en\"}, {\"date\": \"2024-03-23T00:00:00\", \"toll\": 32226, \"publisher\": \"anadolu agency | english\", \"title\": \"gaza death toll climbs to 32226 as 84 more palestinians killed - anadolu agency | english\", \"origin\": \"https://news.google.com/rss/articles/cbmibgh0dhbzoi8vd3d3lmfhlmnvbs50ci9lbi9tawrkbgutzwfzdc9nyxphlwrlyxrolxrvbgwty2xpbwjzlxrvltmyltiyni1hcy04nc1tb3jllxbhbgvzdgluawfucy1rawxszwqvmze3mzi1mdibaa?oc=5&hl=en-us&gl=us&ceid=us:en\"}, {\"date\": \"2024-03-24T00:00:00\", \"toll\": 32333, \"publisher\": \"barron's\", \"title\": \"health ministry in hamas-run gaza says war death toll at 32333 - barron's\", \"origin\": \"https://www.barrons.com/news/health-ministry-in-hamas-run-gaza-says-war-death-toll-at-32-333-fd31aa61\"}, {\"date\": \"2024-03-24T00:00:00\", \"toll\": 32300, \"publisher\": \"anadolu agency | english\", \"title\": \"gaza death toll from israeli attacks passes 32300 - anadolu agency | english\", \"origin\": \"https://news.google.com/rss/articles/cbmix2h0dhbzoi8vd3d3lmfhlmnvbs50ci9lbi9tawrkbgutzwfzdc9nyxphlwrlyxrolxrvbgwtznjvbs1pc3jhzwxplwf0dgfja3mtcgfzc2vzltmyltmwmc8zmtc0mjqx0gea?oc=5&hl=en-us&gl=us&ceid=us:en\"}, {\"date\": \"2024-03-25T00:00:00\", \"toll\": 32400, \"publisher\": \"anadolu agency | english\", \"title\": \"gaza death toll exceeds 32400 amid israeli offensive - anadolu agency | english\", \"origin\": \"https://news.google.com/rss/articles/cbmiymh0dhbzoi8vd3d3lmfhlmnvbs50ci9lbi9tawrkbgutzwfzdc9nyxphlwrlyxrolxrvbgwtzxhjzwvkcy0zmi00mdatyw1pzc1pc3jhzwxplw9mzmvuc2l2zs8zmtc1mzi10gea?oc=5&hl=en-us&gl=us&ceid=us:en\"}, {\"date\": \"2024-03-26T00:00:00\", \"toll\": 32500, \"publisher\": \"anadolu agency | english\", \"title\": \"gaza death toll from israeli attacks nears 32500 - anadolu agency | english\", \"origin\": \"https://news.google.com/rss/articles/cbmixmh0dhbzoi8vd3d3lmfhlmnvbs50ci9lbi9tawrkbgutzwfzdc9nyxphlwrlyxrolxrvbgwtznjvbs1pc3jhzwxplwf0dgfja3mtbmvhcnmtmzitntawlzmxnzyynjhsaqa?oc=5&hl=en-us&gl=us&ceid=us:en\"}, {\"date\": \"2024-03-28T00:00:00\", \"toll\": 32623, \"publisher\": \"anadolu agency | english\", \"title\": \"71 more palestinians killed in gaza death toll climbs to 32623 - anadolu agency | english\", \"origin\": \"https://news.google.com/rss/articles/cbmibgh0dhbzoi8vd3d3lmfhlmnvbs50ci9lbi9tawrkbgutzwfzdc83ms1tb3jllxbhbgvzdgluawfucy1rawxszwqtaw4tz2f6ys1kzwf0ac10b2xslwnsaw1icy10by0zmi02mjmvmze3ode1nnibaa?oc=5&hl=en-us&gl=us&ceid=us:en\"}, {\"date\": \"2024-04-13T00:00:00\", \"toll\": 33686, \"publisher\": \"barron's\", \"title\": \"health ministry in hamas-run gaza says war death toll at 33686 - barron's\", \"origin\": \"https://www.barrons.com/news/health-ministry-in-hamas-run-gaza-says-war-death-toll-at-33-686-222e6c0f\"}, {\"date\": \"2024-04-14T00:00:00\", \"toll\": 33797, \"publisher\": \"barron's\", \"title\": \"health ministry in hamas-run gaza says war death toll at 33797 - barron's\", \"origin\": \"https://www.barrons.com/news/health-ministry-in-hamas-run-gaza-says-war-death-toll-at-33-797-6865363c\"}, {\"date\": \"2024-04-18T00:00:00\", \"toll\": 34000, \"publisher\": \"barron's\", \"title\": \"health ministry in hamas-run gaza says war death toll tops 34000 - barron's\", \"origin\": \"https://www.barrons.com/news/health-ministry-in-hamas-run-gaza-says-war-death-toll-tops-34-000-b3c5f4fb\"}, {\"date\": \"2024-04-18T00:00:00\", \"toll\": 34012, \"publisher\": \"the times of israel\", \"title\": \"hamas health ministry raises gaza death toll to 34012 - the times of israel\", \"origin\": \"https://www.timesofisrael.com/liveblog_entry/hamas-health-ministry-raises-gaza-death-toll-to-34012/\"}, {\"date\": \"2024-04-20T00:00:00\", \"toll\": 34000, \"publisher\": \"politico europe\", \"title\": \"israeli strikes on rafah kill 18 as gaza death toll tops 34000 - politico europe\", \"origin\": \"https://www.politico.eu/article/israel-strike-rafah-kill-13-gaza-death-toll-surpass-34000/\"}, {\"date\": \"2024-04-20T00:00:00\", \"toll\": 34097, \"publisher\": \"barron's\", \"title\": \"health ministry in hamas-run gaza says war death toll at 34097 - barron's\", \"origin\": \"https://www.barrons.com/news/health-ministry-in-hamas-run-gaza-says-war-death-toll-at-34-097-94029bc2\"}, {\"date\": \"2024-04-20T00:00:00\", \"toll\": 34097, \"publisher\": \"the times of israel\", \"title\": \"hamas-run health ministry raises gaza death toll to 34097 - the times of israel\", \"origin\": \"https://www.timesofisrael.com/liveblog_entry/hamas-run-health-ministry-raises-gaza-death-toll-to-34097/\"}, {\"date\": \"2024-04-20T00:00:00\", \"toll\": 34097, \"publisher\": \"middle east monitor\", \"title\": \"infographic: death toll in gaza soared to 34097 - middle east monitor\", \"origin\": \"https://www.middleeastmonitor.com/20240421-infographic-death-toll-in-gaza-soared-to-34097/\"}, {\"date\": \"2024-04-20T00:00:00\", \"toll\": 34000, \"publisher\": \"the guardian\", \"title\": \"gaza death toll passes 34000 as israel and iran missile strikes grab global attention - the guardian\", \"origin\": \"https://www.theguardian.com/world/2024/apr/20/gaza-death-toll-passes-34000-israel-iran\"}, {\"date\": \"2024-04-23T00:00:00\", \"toll\": 200, \"publisher\": \"reliefweb\", \"title\": \"200 days of military attack on gaza: a horrific death toll amid intl. failure to stop israel's genocide of palestinians [en/ar ... - reliefweb\", \"origin\": \"https://reliefweb.int/report/occupied-palestinian-territory/200-days-military-attack-gaza-horrific-death-toll-amid-intl-failure-stop-israels-genocide-palestinians-enar\"}, {\"date\": \"2024-04-28T00:00:00\", \"toll\": 34488, \"publisher\": \"barron's\", \"title\": \"health ministry in hamas-run gaza says war death toll at 34488 - barron's\", \"origin\": \"https://www.barrons.com/news/health-ministry-in-hamas-run-gaza-says-war-death-toll-at-34-488-d7c4379e\"}, {\"date\": \"2024-04-30T00:00:00\", \"toll\": 34568, \"publisher\": \"barron's\", \"title\": \"health ministry in hamas-run gaza says war death toll at 34568 - barron's\", \"origin\": \"https://www.barrons.com/news/health-ministry-in-hamas-run-gaza-says-war-death-toll-at-34-568-9e60b6f5\"}, {\"date\": \"2024-05-01T00:00:00\", \"toll\": 34568, \"publisher\": \"barron's\", \"title\": \"health ministry in hamas-run gaza says war death toll at 34568 - barron's\", \"origin\": \"https://www.barrons.com/news/health-ministry-in-hamas-run-gaza-says-war-death-toll-at-34-568-9e60b6f5\"}, {\"date\": \"2024-05-05T00:00:00\", \"toll\": 34735, \"publisher\": \"barron's\", \"title\": \"health ministry in hamas-run gaza says war death toll at 34735 - barron's\", \"origin\": \"https://www.barrons.com/news/health-ministry-in-hamas-run-gaza-says-war-death-toll-at-34-735-0dbacd1d\"}, {\"date\": \"2024-05-11T00:00:00\", \"toll\": 35000, \"publisher\": \"nbc news\", \"title\": \"battles rage across gaza as death toll tops 35000 and tens of thousands evacuate rafah - nbc news\", \"origin\": \"https://www.nbcnews.com/news/world/israel-hamas-war-gaza-battles-jabalia-rafah-evacuations-rcna151852\"}, {\"date\": \"2024-05-11T00:00:00\", \"toll\": 35000, \"publisher\": \"france 24 english\", \"title\": \"fighting rages across gaza as death toll tops 35000 - france 24 english\", \"origin\": \"https://www.france24.com/en/live-news/20240512-israel-strikes-gaza-after-fresh-rafah-evacuation-order\"}, {\"date\": \"2024-05-11T00:00:00\", \"toll\": 35000, \"publisher\": \"al-monitor\", \"title\": \"fighting rages across gaza as death toll tops 35000 - al-monitor\", \"origin\": \"https://www.al-monitor.com/originals/2024/05/fighting-rages-across-gaza-death-toll-tops-35000\"}, {\"date\": \"2024-05-12T00:00:00\", \"toll\": 35000, \"publisher\": \"reuters\", \"title\": \"un says gaza death toll still over 35000 but not all bodies identified - reuters\", \"origin\": \"https://www.reuters.com/world/middle-east/un-says-gaza-death-toll-still-over-35000-not-all-bodies-identified-2024-05-13/\"}, {\"date\": \"2024-05-12T00:00:00\", \"toll\": 35091, \"publisher\": \"barron's\", \"title\": \"health ministry in hamas-run gaza says war death toll at 35091 - barron's\", \"origin\": \"https://www.barrons.com/news/health-ministry-in-hamas-run-gaza-says-war-death-toll-at-35-091-7ea8138e\"}, {\"date\": \"2024-05-18T00:00:00\", \"toll\": 31, \"publisher\": \"barron's\", \"title\": \"gaza officials say death toll from israeli strike on nuseirat rises to 31 - barron's\", \"origin\": \"https://www.barrons.com/news/gaza-hospital-says-20-killed-in-israeli-strike-on-nuseirat-9dbfe5c3\"}, {\"date\": \"2024-05-19T00:00:00\", \"toll\": 35562, \"publisher\": \"anadolu agency | english\", \"title\": \"palestinian death toll rises to 35562 as israel continues to pound gaza - anadolu agency | english\", \"origin\": \"https://news.google.com/rss/articles/cbmidwh0dhbzoi8vd3d3lmfhlmnvbs50ci9lbi9tawrkbgutzwfzdc9wywxlc3rpbmlhbi1kzwf0ac10b2xslxjpc2vzlxrvltm1ltu2mi1hcy1pc3jhzwwty29udgludwvzlxrvlxbvdw5klwdhemevmziyntazm9ibaa?oc=5&hl=en-us&gl=us&ceid=us:en\"}, {\"date\": \"2024-05-20T00:00:00\", \"toll\": 35647, \"publisher\": \"barron's\", \"title\": \"health ministry in hamas-run gaza says war death toll at 35647 - barron's\", \"origin\": \"https://www.barrons.com/news/health-ministry-in-hamas-run-gaza-says-war-death-toll-at-35-647-90091fc8\"}, {\"date\": \"2024-05-26T00:00:00\", \"toll\": 45, \"publisher\": \"al jazeera english\", \"title\": \"death toll in israeli attack on displaced palestinians in rafah rises to 45 - al jazeera english\", \"origin\": \"https://www.aljazeera.com/news/2024/5/27/dozens-killed-in-israeli-strike-on-rafah-following-hamas-rocket-attacks\"}, {\"date\": \"2024-06-05T00:00:00\", \"toll\": 36586, \"publisher\": \"barron's\", \"title\": \"health ministry in hamas-run gaza says war death toll at 36586 - barron's\", \"origin\": \"https://www.barrons.com/news/health-ministry-in-hamas-run-gaza-says-war-death-toll-at-36-586-3aab1e1c\"}, {\"date\": \"2024-06-08T00:00:00\", \"toll\": 210, \"publisher\": \"al jazeera english\", \"title\": \"israel\\u2019s war on gaza updates: death toll from nuseirat attack rises to 210 - al jazeera english\", \"origin\": \"https://www.aljazeera.com/news/liveblog/2024/6/8/israels-war-on-gaza-live-israeli-army-to-be-added-to-un-child-harm-list\"}, {\"date\": \"2024-06-09T00:00:00\", \"toll\": 274, \"publisher\": \"reuters\", \"title\": \"israel keeps pounding central gaza as palestinian death toll in hostage rescue raid rises to 274 - reuters\", \"origin\": \"https://www.reuters.com/world/middle-east/israel-pounds-central-gaza-palestinian-death-toll-hostage-rescue-raid-rises-274-2024-06-09/\"}, {\"date\": \"2024-06-09T00:00:00\", \"toll\": 37000, \"publisher\": \"al jazeera english\", \"title\": \"israel's war on gaza updates: death toll passes 37000 in gaza - al jazeera english\", \"origin\": \"https://www.aljazeera.com/news/liveblog/2024/6/9/israels-war-on-gaza-live-nightmare-as-hospital-copes-with-nuseirat-dead\"}, {\"date\": \"2024-06-09T00:00:00\", \"toll\": 37084, \"publisher\": \"barron's\", \"title\": \"health ministry in hamas-run gaza says war death toll at 37084 - barron's\", \"origin\": \"https://www.barrons.com/news/health-ministry-in-hamas-run-gaza-says-war-death-toll-at-37-084-f5f81d6c\"}]}}, {\"mode\": \"vega-lite\"});\n",
              "</script>"
            ],
            "text/plain": [
              "alt.Chart(...)"
            ]
          },
          "metadata": {},
          "execution_count": 5
        }
      ]
    },
    {
      "cell_type": "markdown",
      "source": [
        "# Combatants mention"
      ],
      "metadata": {
        "id": "BAtYQltEgjRD"
      }
    },
    {
      "cell_type": "code",
      "source": [
        "!pip install newspaper3k"
      ],
      "metadata": {
        "colab": {
          "base_uri": "https://localhost:8080/"
        },
        "collapsed": true,
        "id": "hTtP_Fv1gtqa",
        "outputId": "173bf8f3-40b4-41ca-99fb-9b5ff4b876bb"
      },
      "execution_count": 6,
      "outputs": [
        {
          "output_type": "stream",
          "name": "stdout",
          "text": [
            "Requirement already satisfied: newspaper3k in /usr/local/lib/python3.10/dist-packages (0.2.8)\n",
            "Requirement already satisfied: beautifulsoup4>=4.4.1 in /usr/local/lib/python3.10/dist-packages (from newspaper3k) (4.12.3)\n",
            "Requirement already satisfied: Pillow>=3.3.0 in /usr/local/lib/python3.10/dist-packages (from newspaper3k) (9.4.0)\n",
            "Requirement already satisfied: PyYAML>=3.11 in /usr/local/lib/python3.10/dist-packages (from newspaper3k) (6.0.1)\n",
            "Requirement already satisfied: cssselect>=0.9.2 in /usr/local/lib/python3.10/dist-packages (from newspaper3k) (1.2.0)\n",
            "Requirement already satisfied: lxml>=3.6.0 in /usr/local/lib/python3.10/dist-packages (from newspaper3k) (4.9.4)\n",
            "Requirement already satisfied: nltk>=3.2.1 in /usr/local/lib/python3.10/dist-packages (from newspaper3k) (3.8.1)\n",
            "Requirement already satisfied: requests>=2.10.0 in /usr/local/lib/python3.10/dist-packages (from newspaper3k) (2.31.0)\n",
            "Requirement already satisfied: feedparser>=5.2.1 in /usr/local/lib/python3.10/dist-packages (from newspaper3k) (6.0.11)\n",
            "Requirement already satisfied: tldextract>=2.0.1 in /usr/local/lib/python3.10/dist-packages (from newspaper3k) (5.1.2)\n",
            "Requirement already satisfied: feedfinder2>=0.0.4 in /usr/local/lib/python3.10/dist-packages (from newspaper3k) (0.0.4)\n",
            "Requirement already satisfied: jieba3k>=0.35.1 in /usr/local/lib/python3.10/dist-packages (from newspaper3k) (0.35.1)\n",
            "Requirement already satisfied: python-dateutil>=2.5.3 in /usr/local/lib/python3.10/dist-packages (from newspaper3k) (2.8.2)\n",
            "Requirement already satisfied: tinysegmenter==0.3 in /usr/local/lib/python3.10/dist-packages (from newspaper3k) (0.3)\n",
            "Requirement already satisfied: soupsieve>1.2 in /usr/local/lib/python3.10/dist-packages (from beautifulsoup4>=4.4.1->newspaper3k) (2.5)\n",
            "Requirement already satisfied: six in /usr/local/lib/python3.10/dist-packages (from feedfinder2>=0.0.4->newspaper3k) (1.16.0)\n",
            "Requirement already satisfied: sgmllib3k in /usr/local/lib/python3.10/dist-packages (from feedparser>=5.2.1->newspaper3k) (1.0.0)\n",
            "Requirement already satisfied: click in /usr/local/lib/python3.10/dist-packages (from nltk>=3.2.1->newspaper3k) (8.1.7)\n",
            "Requirement already satisfied: joblib in /usr/local/lib/python3.10/dist-packages (from nltk>=3.2.1->newspaper3k) (1.4.2)\n",
            "Requirement already satisfied: regex>=2021.8.3 in /usr/local/lib/python3.10/dist-packages (from nltk>=3.2.1->newspaper3k) (2024.5.15)\n",
            "Requirement already satisfied: tqdm in /usr/local/lib/python3.10/dist-packages (from nltk>=3.2.1->newspaper3k) (4.66.4)\n",
            "Requirement already satisfied: charset-normalizer<4,>=2 in /usr/local/lib/python3.10/dist-packages (from requests>=2.10.0->newspaper3k) (3.3.2)\n",
            "Requirement already satisfied: idna<4,>=2.5 in /usr/local/lib/python3.10/dist-packages (from requests>=2.10.0->newspaper3k) (3.7)\n",
            "Requirement already satisfied: urllib3<3,>=1.21.1 in /usr/local/lib/python3.10/dist-packages (from requests>=2.10.0->newspaper3k) (2.0.7)\n",
            "Requirement already satisfied: certifi>=2017.4.17 in /usr/local/lib/python3.10/dist-packages (from requests>=2.10.0->newspaper3k) (2024.6.2)\n",
            "Requirement already satisfied: requests-file>=1.4 in /usr/local/lib/python3.10/dist-packages (from tldextract>=2.0.1->newspaper3k) (2.1.0)\n",
            "Requirement already satisfied: filelock>=3.0.8 in /usr/local/lib/python3.10/dist-packages (from tldextract>=2.0.1->newspaper3k) (3.14.0)\n"
          ]
        }
      ]
    },
    {
      "cell_type": "code",
      "source": [
        "from newspaper import Article"
      ],
      "metadata": {
        "id": "1xr9EGHKgx-Z"
      },
      "execution_count": 3,
      "outputs": []
    },
    {
      "cell_type": "code",
      "source": [
        "url = \"https://raw.githubusercontent.com/evgeny-kolonsky/gaza-news/main/gaza-news.txt\"\n",
        "\n",
        "keywords = ['combatants', 'fighters','militants']\n",
        "\n",
        "def extract_sentence(text, keyword):\n",
        "    return [sentence.strip() for sentence in text.split('.') if any([key in sentence for key in keywords])]\n",
        "\n",
        "txt = ''\n",
        "data = urlopen(url).readlines()\n",
        "for line in data:\n",
        "  line = line.decode().lower().strip()\n",
        "  try:\n",
        "    date, publisher, title, origin = line.split('\\t')\n",
        "  except:\n",
        "    continue\n",
        "  if 'death toll' in title:\n",
        "    article = Article(origin)\n",
        "    try:\n",
        "      article.download()\n",
        "      article.parse()\n",
        "      sentences = extract_sentence(article.text, keywords)\n",
        "      sentences_with_numbers = [sentence for sentence in sentences if extract_biggest_number(sentence) > 0]\n",
        "      if len(sentences_with_numbers) > 0:\n",
        "        print(date, origin)\n",
        "        for sentence in sentences_with_numbers:\n",
        "            print('\\t>', sentence)\n",
        "    except:\n",
        "      pass"
      ],
      "metadata": {
        "colab": {
          "base_uri": "https://localhost:8080/"
        },
        "collapsed": true,
        "id": "ErhXOoSWgULa",
        "outputId": "dbe5a543-e490-4f91-ae99-e31a22fb75b7"
      },
      "execution_count": 4,
      "outputs": [
        {
          "output_type": "stream",
          "name": "stdout",
          "text": [
            "2023-10-07 https://apnews.com/article/israel-palestinians-gaza-hamas-rockets-airstrikes-tel-aviv-ca7903976387cfc1e1011ce9ea805a71\n",
            "\t> More than 40 hours after Hamas launched its unprecedented incursion out of Gaza, Israeli forces were still battling with militants holed up in several locations\n",
            "\t> An Israeli official said security forces have killed 400 militants and captured dozens more\n",
            "2023-10-07 https://www.aljazeera.com/news/liveblog/2023/10/8/israel-palestine-escalation-live-israeli-forces-bombard-gaza\n",
            "\t> Israel-Hamas war updates: Death toll rises as Israeli jets pound Gaza\n",
            "\n",
            "These are the updates for the escalation between Palestinian fighters and Israel military on Sunday, October 8, 2023\n",
            "2023-11-12 https://www.washingtonpost.com/world/interactive/2023/gaza-rising-death-toll-civilians/\n",
            "\t> 7, Hamas militants overran southern Israel, killing around 1,200 people and taking more than 230 hostages, according to Israel’s Foreign Ministry\n",
            "2023-12-01 https://www.pbs.org/newshour/world/israeli-offensive-moves-south-in-gaza-driving-up-death-toll-a-day-after-truce-with-hamas-ends\n",
            "\t> The ministry does not differentiate between civilians and combatants, but it said 70 percent of the dead were women and children\n",
            "\t> The renewed hostilities have heightened concerns for 136 hostages who, according to the Israeli military, are still held by Hamas and other militants after 105 were freed during the truce\n",
            "2023-12-13 https://www.aljazeera.com/news/2023/12/14/israel-bombards-rafah-as-pressure-mounts-over-civilian-death-toll-in-gaza\n",
            "\t> Israel’s military said Palestinian fighters had been operating inside the hospital, 70 of whom had surrendered there “with weapons in hand” and were now undergoing interrogation\n",
            "2023-12-18 https://www.theguardian.com/world/2023/dec/19/palestinian-casualties-in-gaza-near-20000-with-nearly-2m-people-displaced\n",
            "\t> Israel launched the attacks on Gaza after Hamas fighters broke through the border fence and entered Israel on 7 October, where they killed about 1,200 people – mostly civilians – and took more than 200 people hostage\n",
            "2023-12-23 https://www.pbs.org/newshour/world/efforts-toward-new-hostage-release-deal-continue-as-israeli-support-for-the-war-is-tested\n",
            "\t> READ MORE: As Israel expands ground war against Hamas, Gaza death toll exceeds 20,000\n",
            "\n",
            "The mounting death toll among Israeli troops — 154 since the ground offensive began — could erode public support for the war, which was sparked when Hamas-led militants stormed communities in southern Israel on Oct\n",
            "2023-12-24 https://www.pbs.org/newshour/world/death-toll-from-israeli-airstrike-in-central-gaza-rises-to-106-palestinian-officials-say\n",
            "\t> The mounting death toll among Israeli troops — 156 since the ground offensive began — could erode public support for the war, which was sparked when Hamas-led militants stormed communities in southern Israel on Oct\n",
            "\t> The military says it had detained hundreds of Palestinians, including more than 700 who were transferred to Israel for further interrogation about suspected ties to militants\n",
            "2024-01-01 https://www.theguardian.com/world/2024/jan/02/gaza-death-toll-passes-22000-as-israel-steps-up-war-against-hamas\n",
            "\t> Gallant added however that thousands of Hamas fighters were still fighting in the north, “several thousand out of the 15 or 18,000 that were in this area\n",
            "2024-01-20 https://www.france24.com/en/middle-east/20240121-%f0%9f%94%b4-live-fighting-rages-across-gaza-as-israeli-troops-push-into-khan-younis\n",
            "\t> Militant fighters took some 240 hostages during the attack and 136 are still in Gaza, according to Israeli figures\n",
            "2024-02-24 https://www.theguardian.com/world/2024/feb/25/gaza-death-toll-set-to-pass-30000-as-israel-prepares-assault-on-rafah\n",
            "\t> Thousands more unidentified bodies are trapped under bombed buildings, and intense attacks continue, with at least 86 people killed since Saturday, medics said on Sunday\n",
            "\n",
            "This toll does not distinguish between civilians and fighters\n",
            "2024-02-28 https://www.nbcnews.com/news/world/gaza-death-toll-30000-israel-hamas-victory-or-quagmire-rcna140951\n",
            "\t> ”\n",
            "\n",
            "Hamas’ top leaders are still alive, the group still holds more than 100 Israeli hostages, it continues to battle Israeli troops on the ground and — even based on Israel’s aggressive casualty estimates — has 18,000 fighters left\n",
            "2024-02-28 https://apnews.com/article/israel-hamas-war-latest-02-29-2024-ae3d114b28cafd3b1a806bfaa9f83cab\n",
            "\t> More than 210 Hezbollah fighters and nearly 40 civilians have been killed since then on the Lebanese side\n",
            "2024-04-20 https://www.theguardian.com/world/2024/apr/20/gaza-death-toll-passes-34000-israel-iran\n",
            "\t> More than 460 Palestinians,including militants and civilians, have been killed by Israeli fire in the West Bank since 7 October, Palestinian health officials say\n",
            "2024-05-11 https://www.nbcnews.com/news/world/israel-hamas-war-gaza-battles-jabalia-rafah-evacuations-rcna151852\n",
            "\t> Elsewhere, the IDF said Sunday that dozens of militants had been killed in Rafah where more than 1 million Palestinians, many displaced from elsewhere, had been seeking shelter\n",
            "2024-05-11 https://www.al-monitor.com/originals/2024/05/fighting-rages-across-gaza-death-toll-tops-35000\n",
            "\t> May 12, 2024 — Rafah (Palestinian Territories) (AFP)\n",
            "\n",
            "Israel struck Gaza on Sunday and troops battled militants in several areas of the Hamas-run territory, where the health ministry said the death toll in the war had exceeded 35,000 people\n",
            "2024-05-23 https://www.washingtoninstitute.org/policy-analysis/heres-real-problem-uns-revised-gaza-death-toll\n",
            "\t> ) Among the self-reports from families, which seem more likely to reflect the deaths of combatants, men account for more than 55 percent\n",
            "2024-05-27 https://www.poynter.org/fact-checking/2024/real-death-toll-gaza/\n",
            "\t> ”\n",
            "\n",
            "In the May 12 episode of the “Call Me Back” podcast, Israeli Prime Minister Benjamin Netanyahu said that about 14,000 combatants had been killed “and probably around 16,000 civilians have been killed\n",
            "2024-05-29 https://www.thenation.com/article/world/gaza-death-toll-evidence/\n",
            "\t> In other words, around 60 percent of those killed were clearly not combatants\n"
          ]
        }
      ]
    },
    {
      "cell_type": "code",
      "source": [],
      "metadata": {
        "id": "xEWhylca1x2b"
      },
      "execution_count": null,
      "outputs": []
    }
  ]
}